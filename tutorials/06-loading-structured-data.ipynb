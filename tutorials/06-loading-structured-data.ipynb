{
 "cells": [
  {
   "attachments": {},
   "cell_type": "markdown",
   "id": "9aa3c1b1-1587-45de-baaf-e0ccec1ddd8f",
   "metadata": {},
   "source": [
    "# LOADING META-DATA IN CSV FILE"
   ]
  },
  {
   "attachments": {},
   "cell_type": "markdown",
   "id": "573bbbff-e4e9-4a5e-a43f-8feb51d3124f",
   "metadata": {},
   "source": [
    "<table align=\"left\">\n",
    "  <td>\n",
    "    <a target=\"_blank\" href=\"https://colab.research.google.com/github/georgia-tech-db/eva/blob/master/tutorials/06-loading-structured-data.ipynb\"><img src=\"https://www.tensorflow.org/images/colab_logo_32px.png\" /> Run on Google Colab</a>\n",
    "  </td>\n",
    "  <td>\n",
    "    <a target=\"_blank\" href=\"https://github.com/georgia-tech-db/eva/blob/master/tutorials/06-loading-structured-data.ipynb\"><img src=\"https://www.tensorflow.org/images/GitHub-Mark-32px.png\" /> View source on GitHub</a>\n",
    "  </td>\n",
    "  <td>\n",
    "    <a target=\"_blank\" href=\"https://raw.githubusercontent.com/georgia-tech-db/eva/master/tutorials/06-loading-structured-data.ipynb\"><img src=\"https://www.tensorflow.org/images/download_logo_32px.png\" /> Download notebook</a>\n",
    "  </td>\n",
    "</table>"
   ]
  },
  {
   "attachments": {},
   "cell_type": "markdown",
   "id": "27d7ebfa-c0b6-4a15-bd17-59a4e1cb7c77",
   "metadata": {},
   "source": [
    "### Start EVA Server\n",
    "We are reusing the start server notebook for launching the EVA server"
   ]
  },
  {
   "cell_type": "code",
   "execution_count": 1,
   "id": "c758b60b-e75e-4128-805d-46a210638daf",
   "metadata": {
    "execution": {
     "iopub.execute_input": "2023-05-22T23:52:53.622940Z",
     "iopub.status.busy": "2023-05-22T23:52:53.622393Z",
     "iopub.status.idle": "2023-05-22T23:53:07.962460Z",
     "shell.execute_reply": "2023-05-22T23:53:07.960779Z"
    }
   },
   "outputs": [
    {
     "name": "stdout",
     "output_type": "stream",
     "text": [
      "File '00-start-eva-server.ipynb' already there; not retrieving.\r\n",
      "\r\n"
     ]
    },
    {
     "name": "stdout",
     "output_type": "stream",
     "text": [
      "Note: you may need to restart the kernel to use updated packages.\n"
     ]
    },
    {
     "name": "stdout",
     "output_type": "stream",
     "text": [
      "Starting EVA Server ...\n",
      "nohup eva_server --port 8804 > eva.log 2>&1 &\n"
     ]
    }
   ],
   "source": [
    "!wget -nc \"https://raw.githubusercontent.com/georgia-tech-db/eva/master/tutorials/00-start-eva-server.ipynb\"\n",
    "%run 00-start-eva-server.ipynb\n",
    "cursor = connect_to_server()"
   ]
  },
  {
   "attachments": {},
   "cell_type": "markdown",
   "id": "ca54c9e5-6ec9-4aea-b421-ad1fa3ddcdd1",
   "metadata": {},
   "source": [
    "### Video Files\n",
    " - Download a subset of the Berkeley Deepdrive dataset from Dropbox"
   ]
  },
  {
   "cell_type": "code",
   "execution_count": 2,
   "id": "62def7ce-3f83-4fa0-b9fd-2e553b3919ba",
   "metadata": {
    "execution": {
     "iopub.execute_input": "2023-05-22T23:53:07.967771Z",
     "iopub.status.busy": "2023-05-22T23:53:07.967373Z",
     "iopub.status.idle": "2023-05-22T23:53:08.212111Z",
     "shell.execute_reply": "2023-05-22T23:53:08.210392Z"
    }
   },
   "outputs": [
    {
     "name": "stdout",
     "output_type": "stream",
     "text": [
      "File 'bddtest.zip' already there; not retrieving.\r\n",
      "\r\n"
     ]
    },
    {
     "name": "stdout",
     "output_type": "stream",
     "text": [
      "Archive:  bddtest.zip\r\n"
     ]
    }
   ],
   "source": [
    "# sample dataset of 2 videos\n",
    "!wget -nc \"https://www.dropbox.com/s/kg1q69ijbhjfecw/bddtest.zip\"\n",
    "\n",
    "# unzip\n",
    "!unzip -n bddtest.zip"
   ]
  },
  {
   "attachments": {},
   "cell_type": "markdown",
   "id": "463ce1f8-8333-4e11-ab0a-dda6d9bb067b",
   "metadata": {},
   "source": [
    "## Load 2 BDD videos"
   ]
  },
  {
   "cell_type": "code",
   "execution_count": 3,
   "id": "95b1e0a4-d9f5-40f2-830f-69c8c9f21172",
   "metadata": {
    "execution": {
     "iopub.execute_input": "2023-05-22T23:53:08.218272Z",
     "iopub.status.busy": "2023-05-22T23:53:08.217758Z",
     "iopub.status.idle": "2023-05-22T23:53:08.438116Z",
     "shell.execute_reply": "2023-05-22T23:53:08.437262Z"
    },
    "tags": []
   },
   "outputs": [
    {
     "data": {
      "text/html": [
       "<div>\n",
       "<style scoped>\n",
       "    .dataframe tbody tr th:only-of-type {\n",
       "        vertical-align: middle;\n",
       "    }\n",
       "\n",
       "    .dataframe tbody tr th {\n",
       "        vertical-align: top;\n",
       "    }\n",
       "\n",
       "    .dataframe thead th {\n",
       "        text-align: right;\n",
       "    }\n",
       "</style>\n",
       "<table border=\"1\" class=\"dataframe\">\n",
       "  <thead>\n",
       "    <tr style=\"text-align: right;\">\n",
       "      <th></th>\n",
       "      <th>0</th>\n",
       "    </tr>\n",
       "  </thead>\n",
       "  <tbody>\n",
       "    <tr>\n",
       "      <th>0</th>\n",
       "      <td>Number of loaded VIDEO: 1</td>\n",
       "    </tr>\n",
       "  </tbody>\n",
       "</table>\n",
       "</div>"
      ],
      "text/plain": [
       "                           0\n",
       "0  Number of loaded VIDEO: 1"
      ]
     },
     "execution_count": 3,
     "metadata": {},
     "output_type": "execute_result"
    }
   ],
   "source": [
    "cursor.execute('DROP TABLE IF EXISTS bddtest_1;').fetch_all().as_df()\n",
    "\n",
    "cursor.execute('DROP TABLE IF EXISTS bddtest_2;').fetch_all().as_df()\n",
    "\n",
    "cursor.execute('LOAD VIDEO \"./bddtest/videos/bddtest_00a2e3ca5c856cde.mp4\" INTO bddtest_1;').fetch_all().as_df()\n",
    "\n",
    "cursor.execute('LOAD VIDEO \"./bddtest/videos/bddtest_00a395fed60c0b47.mp4\" INTO bddtest_2;').fetch_all().as_df()"
   ]
  },
  {
   "attachments": {},
   "cell_type": "markdown",
   "id": "d7b7c9d5-2eae-4d57-a3f1-78792fca0b83",
   "metadata": {
    "tags": []
   },
   "source": [
    "## Create a BDD Meta-data Table"
   ]
  },
  {
   "cell_type": "code",
   "execution_count": 4,
   "id": "8897b9bb-0993-4eb0-959d-6484a651a90f",
   "metadata": {
    "execution": {
     "iopub.execute_input": "2023-05-22T23:53:08.447871Z",
     "iopub.status.busy": "2023-05-22T23:53:08.447473Z",
     "iopub.status.idle": "2023-05-22T23:53:08.474585Z",
     "shell.execute_reply": "2023-05-22T23:53:08.473416Z"
    },
    "tags": []
   },
   "outputs": [
    {
     "data": {
      "text/html": [
       "<div>\n",
       "<style scoped>\n",
       "    .dataframe tbody tr th:only-of-type {\n",
       "        vertical-align: middle;\n",
       "    }\n",
       "\n",
       "    .dataframe tbody tr th {\n",
       "        vertical-align: top;\n",
       "    }\n",
       "\n",
       "    .dataframe thead th {\n",
       "        text-align: right;\n",
       "    }\n",
       "</style>\n",
       "<table border=\"1\" class=\"dataframe\">\n",
       "  <thead>\n",
       "    <tr style=\"text-align: right;\">\n",
       "      <th></th>\n",
       "    </tr>\n",
       "  </thead>\n",
       "  <tbody>\n",
       "  </tbody>\n",
       "</table>\n",
       "</div>"
      ],
      "text/plain": [
       "Empty DataFrame\n",
       "Columns: []\n",
       "Index: []"
      ]
     },
     "execution_count": 4,
     "metadata": {},
     "output_type": "execute_result"
    }
   ],
   "source": [
    "create_table_query = f\"\"\" \n",
    "\n",
    "    CREATE TABLE IF NOT EXISTS bddtestmeta(\n",
    "        id INTEGER UNIQUE,\n",
    "        frame_id INTEGER,\n",
    "        video_id INTEGER,\n",
    "        dataset_name TEXT(30),\n",
    "        label TEXT(30),\n",
    "        bbox NDARRAY FLOAT32(4),\n",
    "        object_id INTEGER\n",
    "    );\n",
    "    \n",
    "    \"\"\"\n",
    "\n",
    "cursor.execute(create_table_query).fetch_all().as_df()"
   ]
  },
  {
   "attachments": {},
   "cell_type": "markdown",
   "id": "574f8c04-c934-4654-8558-576e34e8735d",
   "metadata": {},
   "source": [
    "## Load the 2 corresponding CSV files associated with the 2 previously loaded videos"
   ]
  },
  {
   "cell_type": "code",
   "execution_count": 5,
   "id": "cf8415ac-f9e0-4bee-b2aa-b4e104b10a4b",
   "metadata": {
    "execution": {
     "iopub.execute_input": "2023-05-22T23:53:08.477616Z",
     "iopub.status.busy": "2023-05-22T23:53:08.477361Z",
     "iopub.status.idle": "2023-05-22T23:53:09.420704Z",
     "shell.execute_reply": "2023-05-22T23:53:09.419723Z"
    }
   },
   "outputs": [
    {
     "data": {
      "text/html": [
       "<div>\n",
       "<style scoped>\n",
       "    .dataframe tbody tr th:only-of-type {\n",
       "        vertical-align: middle;\n",
       "    }\n",
       "\n",
       "    .dataframe tbody tr th {\n",
       "        vertical-align: top;\n",
       "    }\n",
       "\n",
       "    .dataframe thead th {\n",
       "        text-align: right;\n",
       "    }\n",
       "</style>\n",
       "<table border=\"1\" class=\"dataframe\">\n",
       "  <thead>\n",
       "    <tr style=\"text-align: right;\">\n",
       "      <th></th>\n",
       "      <th>CSV</th>\n",
       "      <th>Number of loaded frames</th>\n",
       "    </tr>\n",
       "  </thead>\n",
       "  <tbody>\n",
       "    <tr>\n",
       "      <th>0</th>\n",
       "      <td>bddtest/info/bddtest_00a395fed60c0b47.csv</td>\n",
       "      <td>4355</td>\n",
       "    </tr>\n",
       "  </tbody>\n",
       "</table>\n",
       "</div>"
      ],
      "text/plain": [
       "                                         CSV  Number of loaded frames\n",
       "0  bddtest/info/bddtest_00a395fed60c0b47.csv                     4355"
      ]
     },
     "execution_count": 5,
     "metadata": {},
     "output_type": "execute_result"
    }
   ],
   "source": [
    "cursor.execute(\"LOAD CSV './bddtest/info/bddtest_00a2e3ca5c856cde.csv' INTO bddtestmeta;\").fetch_all().as_df()\n",
    "cursor.execute(\"LOAD CSV './bddtest/info/bddtest_00a395fed60c0b47.csv' INTO bddtestmeta;\").fetch_all().as_df()"
   ]
  },
  {
   "attachments": {},
   "cell_type": "markdown",
   "id": "8ace1640-fb0c-4e70-a595-f7e9befdf757",
   "metadata": {},
   "source": [
    "## Run a Query over the Video dataset\n"
   ]
  },
  {
   "cell_type": "code",
   "execution_count": 6,
   "id": "69e378d4-4d30-47cf-84c8-8fe56afe517e",
   "metadata": {
    "execution": {
     "iopub.execute_input": "2023-05-22T23:53:09.425321Z",
     "iopub.status.busy": "2023-05-22T23:53:09.425067Z",
     "iopub.status.idle": "2023-05-22T23:53:12.057577Z",
     "shell.execute_reply": "2023-05-22T23:53:12.056789Z"
    }
   },
   "outputs": [
    {
     "data": {
      "text/html": [
       "<div>\n",
       "<style scoped>\n",
       "    .dataframe tbody tr th:only-of-type {\n",
       "        vertical-align: middle;\n",
       "    }\n",
       "\n",
       "    .dataframe tbody tr th {\n",
       "        vertical-align: top;\n",
       "    }\n",
       "\n",
       "    .dataframe thead th {\n",
       "        text-align: right;\n",
       "    }\n",
       "</style>\n",
       "<table border=\"1\" class=\"dataframe\">\n",
       "  <thead>\n",
       "    <tr style=\"text-align: right;\">\n",
       "      <th></th>\n",
       "      <th>bddtest_1.id</th>\n",
       "      <th>yolo.labels</th>\n",
       "      <th>yolo.bboxes</th>\n",
       "      <th>yolo.scores</th>\n",
       "    </tr>\n",
       "  </thead>\n",
       "  <tbody>\n",
       "    <tr>\n",
       "      <th>0</th>\n",
       "      <td>0</td>\n",
       "      <td>[car, stop sign, car, car, car, car, car, car,...</td>\n",
       "      <td>[[490.404541015625, 332.927001953125, 716.9006...</td>\n",
       "      <td>[0.93, 0.91, 0.87, 0.82, 0.77, 0.73, 0.73, 0.5...</td>\n",
       "    </tr>\n",
       "    <tr>\n",
       "      <th>1</th>\n",
       "      <td>1</td>\n",
       "      <td>[car, car, stop sign, car, car, car, car, car,...</td>\n",
       "      <td>[[486.3106994628906, 331.76861572265625, 716.0...</td>\n",
       "      <td>[0.92, 0.87, 0.85, 0.76, 0.74, 0.73, 0.62, 0.5...</td>\n",
       "    </tr>\n",
       "    <tr>\n",
       "      <th>2</th>\n",
       "      <td>2</td>\n",
       "      <td>[car, stop sign, car, car, car, car, car, car,...</td>\n",
       "      <td>[[481.7199401855469, 331.24237060546875, 715.6...</td>\n",
       "      <td>[0.93, 0.9, 0.87, 0.79, 0.77, 0.74, 0.55, 0.54...</td>\n",
       "    </tr>\n",
       "  </tbody>\n",
       "</table>\n",
       "</div>"
      ],
      "text/plain": [
       "   bddtest_1.id                                        yolo.labels   \n",
       "0             0  [car, stop sign, car, car, car, car, car, car,...  \\\n",
       "1             1  [car, car, stop sign, car, car, car, car, car,...   \n",
       "2             2  [car, stop sign, car, car, car, car, car, car,...   \n",
       "\n",
       "                                         yolo.bboxes   \n",
       "0  [[490.404541015625, 332.927001953125, 716.9006...  \\\n",
       "1  [[486.3106994628906, 331.76861572265625, 716.0...   \n",
       "2  [[481.7199401855469, 331.24237060546875, 715.6...   \n",
       "\n",
       "                                         yolo.scores  \n",
       "0  [0.93, 0.91, 0.87, 0.82, 0.77, 0.73, 0.73, 0.5...  \n",
       "1  [0.92, 0.87, 0.85, 0.76, 0.74, 0.73, 0.62, 0.5...  \n",
       "2  [0.93, 0.9, 0.87, 0.79, 0.77, 0.74, 0.55, 0.54...  "
      ]
     },
     "execution_count": 6,
     "metadata": {},
     "output_type": "execute_result"
    }
   ],
   "source": [
    "cursor.execute(\"\"\"\n",
    "            CREATE UDF IF NOT EXISTS Yolo\n",
    "            TYPE  ultralytics\n",
    "            'model' 'yolov8m.pt';\n",
    "      \"\"\").fetch_all().as_df()\n",
    "\n",
    "cursor.execute(\"\"\"SELECT id, Yolo(data) \n",
    "                  FROM bddtest_1 \n",
    "                  WHERE id < 3;\"\"\").fetch_all().as_df()"
   ]
  },
  {
   "attachments": {},
   "cell_type": "markdown",
   "id": "55551f98-6e3f-4088-a02f-6852b56dfc63",
   "metadata": {},
   "source": [
    "## Run a query over the Meta-data Table"
   ]
  },
  {
   "cell_type": "code",
   "execution_count": 7,
   "id": "2990038a-00ec-4d36-aae2-82a789f2389a",
   "metadata": {
    "execution": {
     "iopub.execute_input": "2023-05-22T23:53:12.061010Z",
     "iopub.status.busy": "2023-05-22T23:53:12.060768Z",
     "iopub.status.idle": "2023-05-22T23:53:12.512787Z",
     "shell.execute_reply": "2023-05-22T23:53:12.511797Z"
    }
   },
   "outputs": [
    {
     "data": {
      "text/html": [
       "<div>\n",
       "<style scoped>\n",
       "    .dataframe tbody tr th:only-of-type {\n",
       "        vertical-align: middle;\n",
       "    }\n",
       "\n",
       "    .dataframe tbody tr th {\n",
       "        vertical-align: top;\n",
       "    }\n",
       "\n",
       "    .dataframe thead th {\n",
       "        text-align: right;\n",
       "    }\n",
       "</style>\n",
       "<table border=\"1\" class=\"dataframe\">\n",
       "  <thead>\n",
       "    <tr style=\"text-align: right;\">\n",
       "      <th></th>\n",
       "      <th>bddtestmeta._row_id</th>\n",
       "      <th>bddtestmeta.id</th>\n",
       "      <th>bddtestmeta.frame_id</th>\n",
       "      <th>bddtestmeta.video_id</th>\n",
       "      <th>bddtestmeta.dataset_name</th>\n",
       "      <th>bddtestmeta.label</th>\n",
       "      <th>bddtestmeta.bbox</th>\n",
       "      <th>bddtestmeta.object_id</th>\n",
       "    </tr>\n",
       "  </thead>\n",
       "  <tbody>\n",
       "    <tr>\n",
       "      <th>0</th>\n",
       "      <td>1</td>\n",
       "      <td>8185</td>\n",
       "      <td>0</td>\n",
       "      <td>4</td>\n",
       "      <td>bddtest</td>\n",
       "      <td>car</td>\n",
       "      <td>[491.7783, 320.9238, 717.0901, 512.1478]</td>\n",
       "      <td>512</td>\n",
       "    </tr>\n",
       "    <tr>\n",
       "      <th>1</th>\n",
       "      <td>2</td>\n",
       "      <td>8186</td>\n",
       "      <td>0</td>\n",
       "      <td>4</td>\n",
       "      <td>bddtest</td>\n",
       "      <td>car</td>\n",
       "      <td>[928.2679, 298.47574, 1279.5381, 571.17786]</td>\n",
       "      <td>513</td>\n",
       "    </tr>\n",
       "    <tr>\n",
       "      <th>2</th>\n",
       "      <td>3</td>\n",
       "      <td>8187</td>\n",
       "      <td>0</td>\n",
       "      <td>4</td>\n",
       "      <td>bddtest</td>\n",
       "      <td>car</td>\n",
       "      <td>[816.0277, 347.52887, 1029.6998, 474.7344]</td>\n",
       "      <td>514</td>\n",
       "    </tr>\n",
       "    <tr>\n",
       "      <th>3</th>\n",
       "      <td>4</td>\n",
       "      <td>8188</td>\n",
       "      <td>0</td>\n",
       "      <td>4</td>\n",
       "      <td>bddtest</td>\n",
       "      <td>car</td>\n",
       "      <td>[811.87067, 325.91223, 948.2217, 408.2217]</td>\n",
       "      <td>515</td>\n",
       "    </tr>\n",
       "    <tr>\n",
       "      <th>4</th>\n",
       "      <td>5</td>\n",
       "      <td>8189</td>\n",
       "      <td>0</td>\n",
       "      <td>4</td>\n",
       "      <td>bddtest</td>\n",
       "      <td>car</td>\n",
       "      <td>[673.0254, 325.08084, 751.17786, 367.48267]</td>\n",
       "      <td>516</td>\n",
       "    </tr>\n",
       "    <tr>\n",
       "      <th>...</th>\n",
       "      <td>...</td>\n",
       "      <td>...</td>\n",
       "      <td>...</td>\n",
       "      <td>...</td>\n",
       "      <td>...</td>\n",
       "      <td>...</td>\n",
       "      <td>...</td>\n",
       "      <td>...</td>\n",
       "    </tr>\n",
       "    <tr>\n",
       "      <th>3396</th>\n",
       "      <td>3397</td>\n",
       "      <td>11581</td>\n",
       "      <td>1197</td>\n",
       "      <td>4</td>\n",
       "      <td>bddtest</td>\n",
       "      <td>car</td>\n",
       "      <td>[554.96533, 335.88916, 588.2217, 378.291]</td>\n",
       "      <td>643</td>\n",
       "    </tr>\n",
       "    <tr>\n",
       "      <th>3397</th>\n",
       "      <td>3398</td>\n",
       "      <td>11582</td>\n",
       "      <td>1197</td>\n",
       "      <td>4</td>\n",
       "      <td>bddtest</td>\n",
       "      <td>car</td>\n",
       "      <td>[693.8106, 350.0231, 734.5497, 395.75058]</td>\n",
       "      <td>644</td>\n",
       "    </tr>\n",
       "    <tr>\n",
       "      <th>3398</th>\n",
       "      <td>3399</td>\n",
       "      <td>11583</td>\n",
       "      <td>1197</td>\n",
       "      <td>4</td>\n",
       "      <td>bddtest</td>\n",
       "      <td>car</td>\n",
       "      <td>[683.83374, 345.03464, 733.71826, 389.93073]</td>\n",
       "      <td>642</td>\n",
       "    </tr>\n",
       "    <tr>\n",
       "      <th>3399</th>\n",
       "      <td>3400</td>\n",
       "      <td>11584</td>\n",
       "      <td>1197</td>\n",
       "      <td>4</td>\n",
       "      <td>bddtest</td>\n",
       "      <td>car</td>\n",
       "      <td>[676.351, 346.69745, 699.6305, 384.11084]</td>\n",
       "      <td>641</td>\n",
       "    </tr>\n",
       "    <tr>\n",
       "      <th>3400</th>\n",
       "      <td>3401</td>\n",
       "      <td>11585</td>\n",
       "      <td>1197</td>\n",
       "      <td>4</td>\n",
       "      <td>bddtest</td>\n",
       "      <td>car</td>\n",
       "      <td>[662.2171, 351.6859, 681.3395, 377.4596]</td>\n",
       "      <td>638</td>\n",
       "    </tr>\n",
       "  </tbody>\n",
       "</table>\n",
       "<p>3401 rows × 8 columns</p>\n",
       "</div>"
      ],
      "text/plain": [
       "      bddtestmeta._row_id  bddtestmeta.id  bddtestmeta.frame_id   \n",
       "0                       1            8185                     0  \\\n",
       "1                       2            8186                     0   \n",
       "2                       3            8187                     0   \n",
       "3                       4            8188                     0   \n",
       "4                       5            8189                     0   \n",
       "...                   ...             ...                   ...   \n",
       "3396                 3397           11581                  1197   \n",
       "3397                 3398           11582                  1197   \n",
       "3398                 3399           11583                  1197   \n",
       "3399                 3400           11584                  1197   \n",
       "3400                 3401           11585                  1197   \n",
       "\n",
       "      bddtestmeta.video_id bddtestmeta.dataset_name bddtestmeta.label   \n",
       "0                        4                  bddtest               car  \\\n",
       "1                        4                  bddtest               car   \n",
       "2                        4                  bddtest               car   \n",
       "3                        4                  bddtest               car   \n",
       "4                        4                  bddtest               car   \n",
       "...                    ...                      ...               ...   \n",
       "3396                     4                  bddtest               car   \n",
       "3397                     4                  bddtest               car   \n",
       "3398                     4                  bddtest               car   \n",
       "3399                     4                  bddtest               car   \n",
       "3400                     4                  bddtest               car   \n",
       "\n",
       "                                  bddtestmeta.bbox  bddtestmeta.object_id  \n",
       "0         [491.7783, 320.9238, 717.0901, 512.1478]                    512  \n",
       "1      [928.2679, 298.47574, 1279.5381, 571.17786]                    513  \n",
       "2       [816.0277, 347.52887, 1029.6998, 474.7344]                    514  \n",
       "3       [811.87067, 325.91223, 948.2217, 408.2217]                    515  \n",
       "4      [673.0254, 325.08084, 751.17786, 367.48267]                    516  \n",
       "...                                            ...                    ...  \n",
       "3396     [554.96533, 335.88916, 588.2217, 378.291]                    643  \n",
       "3397     [693.8106, 350.0231, 734.5497, 395.75058]                    644  \n",
       "3398  [683.83374, 345.03464, 733.71826, 389.93073]                    642  \n",
       "3399     [676.351, 346.69745, 699.6305, 384.11084]                    641  \n",
       "3400      [662.2171, 351.6859, 681.3395, 377.4596]                    638  \n",
       "\n",
       "[3401 rows x 8 columns]"
      ]
     },
     "execution_count": 7,
     "metadata": {},
     "output_type": "execute_result"
    }
   ],
   "source": [
    "cursor.execute(\"\"\"SELECT *\n",
    "                  FROM bddtestmeta\n",
    "                  WHERE bddtestmeta.video_id = 4;\"\"\").fetch_all().as_df()"
   ]
  }
 ],
 "metadata": {
  "kernelspec": {
   "display_name": "Python 3 (ipykernel)",
   "language": "python",
   "name": "python3"
  },
  "language_info": {
   "codemirror_mode": {
    "name": "ipython",
    "version": 3
   },
   "file_extension": ".py",
   "mimetype": "text/x-python",
   "name": "python",
   "nbconvert_exporter": "python",
   "pygments_lexer": "ipython3",
   "version": "3.10.11"
  }
 },
 "nbformat": 4,
 "nbformat_minor": 5
}

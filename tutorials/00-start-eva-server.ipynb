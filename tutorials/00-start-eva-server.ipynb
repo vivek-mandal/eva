{
 "cells": [
  {
   "attachments": {},
   "cell_type": "markdown",
   "metadata": {},
   "source": [
    "# Start EVA Server"
   ]
  },
  {
   "attachments": {},
   "cell_type": "markdown",
   "metadata": {},
   "source": [
    "<table align=\"left\">\n",
    "  <td>\n",
    "    <a target=\"_blank\" href=\"https://colab.research.google.com/github/georgia-tech-db/eva/blob/master/tutorials/00-start-eva-server.ipynb\"><img src=\"https://www.tensorflow.org/images/colab_logo_32px.png\" /> Run on Google Colab</a>\n",
    "  </td>\n",
    "  <td>\n",
    "    <a target=\"_blank\" href=\"https://github.com/georgia-tech-db/eva/blob/master/tutorials/00-start-eva-server.ipynb\"><img src=\"https://www.tensorflow.org/images/GitHub-Mark-32px.png\" /> View source on GitHub</a>\n",
    "  </td>\n",
    "  <td>\n",
    "    <a target=\"_blank\" href=\"https://raw.githubusercontent.com/georgia-tech-db/eva/master/tutorials/00-start-eva-server.ipynb\"><img src=\"https://www.tensorflow.org/images/download_logo_32px.png\" /> Download notebook</a>\n",
    "  </td>\n",
    "</table>"
   ]
  },
  {
   "attachments": {},
   "cell_type": "markdown",
   "metadata": {},
   "source": [
    "### Launch EVA server\n",
    "\n",
    "We use this notebook for launching the EVA server."
   ]
  },
  {
   "cell_type": "code",
   "execution_count": 1,
   "metadata": {
    "execution": {
     "iopub.execute_input": "2023-05-15T17:37:39.633122Z",
     "iopub.status.busy": "2023-05-15T17:37:39.632586Z",
     "iopub.status.idle": "2023-05-15T17:37:53.175893Z",
     "shell.execute_reply": "2023-05-15T17:37:53.174124Z"
    }
   },
   "outputs": [
    {
     "name": "stdout",
     "output_type": "stream",
     "text": [
      "Note: you may need to restart the kernel to use updated packages.\n",
      "nohup eva_server --port 8803 > eva.log 2>&1 &\n"
     ]
    }
   ],
   "source": [
    "## Install EVA package if needed\n",
    "%pip install \"evadb\" --quiet\n",
    "\n",
    "import re\n",
    "import os\n",
    "import time\n",
    "import platform\n",
    "import itertools\n",
    "\n",
    "from psutil import process_iter\n",
    "from signal import SIGTERM\n",
    "\n",
    "\n",
    "def is_eva_server_process(proc):\n",
    "    if platform.system() == \"Darwin\":\n",
    "        if proc.name() == \"Python\":\n",
    "            cmdline = proc.cmdline()\n",
    "            return len(cmdline) > 1 and \"eva_server\" in cmdline[1]\n",
    "    elif platform.system() == \"Linux\":\n",
    "        return proc.name() == \"eva_server\"\n",
    "    \n",
    "    # TODO: Handle for Windows\n",
    "    return False\n",
    "\n",
    "def shell(command):\n",
    "    print(command)\n",
    "    os.system(command)\n",
    "\n",
    "def stop_eva_server():\n",
    "    for proc in process_iter():\n",
    "        if is_eva_server_process(proc):\n",
    "            print(\"Stopping EVA Server ...\")\n",
    "            proc.send_signal(SIGTERM)\n",
    "\n",
    "def is_eva_server_running():\n",
    "    for proc in process_iter():\n",
    "        if is_eva_server_process(proc):\n",
    "            return True\n",
    "    return False\n",
    "\n",
    "def launch_eva_server():\n",
    "    os.environ[\"CUDA_VISIBLE_DEVICES\"] = \"0\"\n",
    "\n",
    "    # Start EVA server\n",
    "    print(\"Starting EVA Server ...\")\n",
    "    shell(\"nohup eva_server > eva.log 2>&1 &\")\n",
    "\n",
    "    last_few_lines_count = 3\n",
    "    try:\n",
    "        with open('eva.log', 'r') as f:\n",
    "            for lines in itertools.zip_longest(*[f]*last_few_lines_count):\n",
    "                print(lines)\n",
    "    except FileNotFoundError:\n",
    "        pass\n",
    "\n",
    "    # Wait for server to start\n",
    "    time.sleep(10)\n",
    "\n",
    "def connect_to_server():\n",
    "    from eva.server.db_api import connect\n",
    "    import nest_asyncio\n",
    "    nest_asyncio.apply()\n",
    "\n",
    "    status = is_eva_server_running()\n",
    "    if status:\n",
    "        stop_eva_server()\n",
    "    \n",
    "    launch_eva_server()\n",
    "\n",
    "    # Connect client with server\n",
    "    connection = connect(host=\"127.0.0.1\", port=8803) \n",
    "    cursor = connection.cursor()\n",
    "\n",
    "    return cursor"
   ]
  }
 ],
 "metadata": {
  "kernelspec": {
   "display_name": "Python 3 (ipykernel)",
   "language": "python",
   "name": "python3"
  },
  "language_info": {
   "codemirror_mode": {
    "name": "ipython",
    "version": 3
   },
   "file_extension": ".py",
   "mimetype": "text/x-python",
   "name": "python",
   "nbconvert_exporter": "python",
   "pygments_lexer": "ipython3",
   "version": "3.10.11"
  },
  "vscode": {
   "interpreter": {
    "hash": "292337e8e9747092192f4a1ef18b0951099c869b0f06eb7241460e1768f24923"
   }
  }
 },
 "nbformat": 4,
 "nbformat_minor": 2
}

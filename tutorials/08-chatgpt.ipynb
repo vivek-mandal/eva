{
 "cells": [
  {
   "attachments": {},
   "cell_type": "markdown",
   "metadata": {},
   "source": [
    "# ChatGPT Tutorial"
   ]
  },
  {
   "attachments": {},
   "cell_type": "markdown",
   "metadata": {},
   "source": [
    "<table align=\"left\">\n",
    "  <td>\n",
    "    <a target=\"_blank\" href=\"https://colab.research.google.com/github/georgia-tech-db/eva/blob/master/tutorials/08-chatgpt.ipynb\"><img src=\"https://www.tensorflow.org/images/colab_logo_32px.png\" /> Run on Google Colab</a>\n",
    "  </td>\n",
    "  <td>\n",
    "    <a target=\"_blank\" href=\"https://github.com/georgia-tech-db/eva/blob/master/tutorials/08-chatgpt.ipynb\"><img src=\"https://www.tensorflow.org/images/GitHub-Mark-32px.png\" /> View source on GitHub</a>\n",
    "  </td>\n",
    "  <td>\n",
    "    <a target=\"_blank\" href=\"https://github.com/georgia-tech-db/eva/raw/master/tutorials/08-chatgpt.ipynb\"><img src=\"https://www.tensorflow.org/images/download_logo_32px.png\" /> Download notebook</a>\n",
    "  </td>\n",
    "</table><br><br>"
   ]
  },
  {
   "attachments": {},
   "cell_type": "markdown",
   "metadata": {},
   "source": [
    "### Connect to EvaDB"
   ]
  },
  {
   "cell_type": "code",
   "execution_count": 1,
   "metadata": {},
   "outputs": [],
   "source": [
    "%pip install --quiet \"evadb[document,notebook]\"\n",
    "import evadb\n",
    "cursor = evadb.connect().cursor()"
   ]
  },
  {
   "attachments": {},
   "cell_type": "markdown",
   "metadata": {},
   "source": [
    "## Download News Video and ChatGPT UDF "
   ]
  },
  {
   "cell_type": "code",
   "execution_count": 2,
   "metadata": {
    "execution": {
     "iopub.execute_input": "2023-05-23T00:06:31.145167Z",
     "iopub.status.busy": "2023-05-23T00:06:31.144805Z",
     "iopub.status.idle": "2023-05-23T00:06:31.391507Z",
     "shell.execute_reply": "2023-05-23T00:06:31.389868Z"
    }
   },
   "outputs": [
    {
     "name": "stdout",
     "output_type": "stream",
     "text": [
      "--2023-06-04 16:33:58--  https://www.dropbox.com/s/rfm1kds2mv77pca/russia_ukraine.mp4?dl=0\n",
      "Resolving www.dropbox.com (www.dropbox.com)... 162.125.81.18, 2620:100:6031:18::a27d:5112\n",
      "Connecting to www.dropbox.com (www.dropbox.com)|162.125.81.18|:443... connected.\n",
      "HTTP request sent, awaiting response... 302 Found\n",
      "Location: /s/raw/rfm1kds2mv77pca/russia_ukraine.mp4 [following]\n",
      "--2023-06-04 16:33:58--  https://www.dropbox.com/s/raw/rfm1kds2mv77pca/russia_ukraine.mp4\n",
      "Reusing existing connection to www.dropbox.com:443.\n",
      "HTTP request sent, awaiting response... 302 Found\n",
      "Location: https://uc56e71d89460f5d56c763d04279.dl.dropboxusercontent.com/cd/0/inline/B9WbTfMnot4ocyTi1x4NyHyJX7D9SCSL9ZWhHTqQu0aHbqLcPPn0OUMN0DjN2yAZ3AJqTwe9JTxAc-tn4B83OPFhyk9z9uw6kYgU3gjnirTDcBaQEGrEgcO9barLYe9r_m4aV3PInAEKmQfPVZcYuH5UEngNpxm027bp7-Tr5zAkGg/file# [following]\n",
      "--2023-06-04 16:33:59--  https://uc56e71d89460f5d56c763d04279.dl.dropboxusercontent.com/cd/0/inline/B9WbTfMnot4ocyTi1x4NyHyJX7D9SCSL9ZWhHTqQu0aHbqLcPPn0OUMN0DjN2yAZ3AJqTwe9JTxAc-tn4B83OPFhyk9z9uw6kYgU3gjnirTDcBaQEGrEgcO9barLYe9r_m4aV3PInAEKmQfPVZcYuH5UEngNpxm027bp7-Tr5zAkGg/file\n",
      "Resolving uc56e71d89460f5d56c763d04279.dl.dropboxusercontent.com (uc56e71d89460f5d56c763d04279.dl.dropboxusercontent.com)... 162.125.81.15, 2620:100:6031:15::a27d:510f\n",
      "Connecting to uc56e71d89460f5d56c763d04279.dl.dropboxusercontent.com (uc56e71d89460f5d56c763d04279.dl.dropboxusercontent.com)|162.125.81.15|:443... connected.\n",
      "HTTP request sent, awaiting response... 200 OK\n",
      "Length: 5341582 (5.1M) [video/mp4]\n",
      "Saving to: ‘russia_ukraine.mp4’\n",
      "\n",
      "russia_ukraine.mp4  100%[===================>]   5.09M  6.21MB/s    in 0.8s    \n",
      "\n",
      "2023-06-04 16:34:01 (6.21 MB/s) - ‘russia_ukraine.mp4’ saved [5341582/5341582]\n",
      "\n",
      "--2023-06-04 16:34:01--  https://raw.githubusercontent.com/georgia-tech-db/eva/master/eva/udfs/chatgpt.py\n",
      "Resolving raw.githubusercontent.com (raw.githubusercontent.com)... 185.199.109.133, 185.199.111.133, 185.199.110.133, ...\n",
      "Connecting to raw.githubusercontent.com (raw.githubusercontent.com)|185.199.109.133|:443... connected.\n",
      "HTTP request sent, awaiting response... 200 OK\n",
      "Length: 3102 (3.0K) [text/plain]\n",
      "Saving to: ‘chatgpt.py’\n",
      "\n",
      "chatgpt.py          100%[===================>]   3.03K  --.-KB/s    in 0s      \n",
      "\n",
      "2023-06-04 16:34:01 (29.7 MB/s) - ‘chatgpt.py’ saved [3102/3102]\n",
      "\n"
     ]
    }
   ],
   "source": [
    "# Download News Video\n",
    "!wget -nc \"https://www.dropbox.com/s/rfm1kds2mv77pca/russia_ukraine.mp4?dl=0\" -O russia_ukraine.mp4\n",
    "\n",
    "# Download ChatGPT UDF if needed\n",
    "!wget -nc https://raw.githubusercontent.com/georgia-tech-db/eva/master/evadb/udfs/chatgpt.py -O chatgpt.py"
   ]
  },
  {
   "attachments": {},
   "cell_type": "markdown",
   "metadata": {},
   "source": [
    "## Set your OpenAI API key here"
   ]
  },
  {
   "cell_type": "code",
   "execution_count": 4,
   "metadata": {
    "execution": {
     "iopub.execute_input": "2023-05-23T00:06:31.630906Z",
     "iopub.status.busy": "2023-05-23T00:06:31.630189Z",
     "iopub.status.idle": "2023-05-23T00:06:31.650409Z",
     "shell.execute_reply": "2023-05-23T00:06:31.649147Z"
    }
   },
   "outputs": [],
   "source": [
    "from eva.configuration.configuration_manager import ConfigurationManager\n",
    "import os\n",
    "\n",
    "# Assuming that the key is stored as an environment variable\n",
    "open_ai_key = os.environ.get('OPENAI_KEY')\n",
    "ConfigurationManager().update_value(\"third_party\", \"openai_api_key\", open_ai_key)\n"
   ]
  },
  {
   "cell_type": "code",
   "execution_count": 5,
   "metadata": {
    "execution": {
     "iopub.execute_input": "2023-05-23T00:06:31.653670Z",
     "iopub.status.busy": "2023-05-23T00:06:31.653419Z",
     "iopub.status.idle": "2023-05-23T00:06:31.792077Z",
     "shell.execute_reply": "2023-05-23T00:06:31.791031Z"
    }
   },
   "outputs": [
    {
     "name": "stdout",
     "output_type": "stream",
     "text": [
      "                                  0\n",
      "0  UDF ChatGPT successfully dropped\n"
     ]
    },
    {
     "data": {
      "text/html": [
       "<div>\n",
       "<style scoped>\n",
       "    .dataframe tbody tr th:only-of-type {\n",
       "        vertical-align: middle;\n",
       "    }\n",
       "\n",
       "    .dataframe tbody tr th {\n",
       "        vertical-align: top;\n",
       "    }\n",
       "\n",
       "    .dataframe thead th {\n",
       "        text-align: right;\n",
       "    }\n",
       "</style>\n",
       "<table border=\"1\" class=\"dataframe\">\n",
       "  <thead>\n",
       "    <tr style=\"text-align: right;\">\n",
       "      <th></th>\n",
       "      <th>0</th>\n",
       "    </tr>\n",
       "  </thead>\n",
       "  <tbody>\n",
       "    <tr>\n",
       "      <th>0</th>\n",
       "      <td>UDF ChatGPT successfully added to the database.</td>\n",
       "    </tr>\n",
       "  </tbody>\n",
       "</table><br><br>\n",
       "</div>"
      ],
      "text/plain": [
       "                                                 0\n",
       "0  UDF ChatGPT successfully added to the database."
      ]
     },
     "execution_count": 5,
     "metadata": {},
     "output_type": "execute_result"
    }
   ],
   "source": [
    "# Drop the UDF if it already exists\n",
    "cursor.query(\"DROP UDF IF EXISTS ChatGPT;\").df()\n",
    "\n",
    "# Register the ChatGPT UDF in EvaDB\n",
    "create_udf_query = f\"\"\"CREATE UDF ChatGPT\n",
    "                       IMPL 'chatgpt.py' \"\"\"\n",
    "cursor.query(create_udf_query).df()\n"
   ]
  },
  {
   "attachments": {},
   "cell_type": "markdown",
   "metadata": {},
   "source": [
    "## Run the ChatGPT UDF"
   ]
  },
  {
   "attachments": {},
   "cell_type": "markdown",
   "metadata": {},
   "source": [
    "![OPENAI UDF](chatgpt.png)"
   ]
  },
  {
   "cell_type": "code",
   "execution_count": 6,
   "metadata": {
    "execution": {
     "iopub.execute_input": "2023-05-23T00:06:31.796595Z",
     "iopub.status.busy": "2023-05-23T00:06:31.796352Z",
     "iopub.status.idle": "2023-05-23T00:06:31.949025Z",
     "shell.execute_reply": "2023-05-23T00:06:31.947809Z"
    }
   },
   "outputs": [
    {
     "data": {
      "text/html": [
       "<div>\n",
       "<style scoped>\n",
       "    .dataframe tbody tr th:only-of-type {\n",
       "        vertical-align: middle;\n",
       "    }\n",
       "\n",
       "    .dataframe tbody tr th {\n",
       "        vertical-align: top;\n",
       "    }\n",
       "\n",
       "    .dataframe thead th {\n",
       "        text-align: right;\n",
       "    }\n",
       "</style>\n",
       "<table border=\"1\" class=\"dataframe\">\n",
       "  <thead>\n",
       "    <tr style=\"text-align: right;\">\n",
       "      <th></th>\n",
       "      <th>0</th>\n",
       "    </tr>\n",
       "  </thead>\n",
       "  <tbody>\n",
       "    <tr>\n",
       "      <th>0</th>\n",
       "      <td>Number of loaded VIDEO: 1</td>\n",
       "    </tr>\n",
       "  </tbody>\n",
       "</table><br><br>\n",
       "</div>"
      ],
      "text/plain": [
       "                           0\n",
       "0  Number of loaded VIDEO: 1"
      ]
     },
     "execution_count": 6,
     "metadata": {},
     "output_type": "execute_result"
    }
   ],
   "source": [
    "#load the video\n",
    "cursor.drop(item_name=\"VIDEOS\", item_type=\"TABLE\", if_exists=True).df()\n",
    "cursor.query(\"LOAD VIDEO 'russia_ukraine.mp4' INTO VIDEOS;\").df()"
   ]
  },
  {
   "cell_type": "code",
   "execution_count": 7,
   "metadata": {
    "execution": {
     "iopub.execute_input": "2023-05-23T00:06:31.953783Z",
     "iopub.status.busy": "2023-05-23T00:06:31.953419Z",
     "iopub.status.idle": "2023-05-23T00:06:34.511509Z",
     "shell.execute_reply": "2023-05-23T00:06:34.510590Z"
    }
   },
   "outputs": [
    {
     "data": {
      "text/html": [
       "<div>\n",
       "<style scoped>\n",
       "    .dataframe tbody tr th:only-of-type {\n",
       "        vertical-align: middle;\n",
       "    }\n",
       "\n",
       "    .dataframe tbody tr th {\n",
       "        vertical-align: top;\n",
       "    }\n",
       "\n",
       "    .dataframe thead th {\n",
       "        text-align: right;\n",
       "    }\n",
       "</style>\n",
       "<table border=\"1\" class=\"dataframe\">\n",
       "  <thead>\n",
       "    <tr style=\"text-align: right;\">\n",
       "      <th></th>\n",
       "      <th>0</th>\n",
       "    </tr>\n",
       "  </thead>\n",
       "  <tbody>\n",
       "    <tr>\n",
       "      <th>0</th>\n",
       "      <td>UDF SpeechRecognizer successfully added to the...</td>\n",
       "    </tr>\n",
       "  </tbody>\n",
       "</table><br><br>\n",
       "</div>"
      ],
      "text/plain": [
       "                                                   0\n",
       "0  UDF SpeechRecognizer successfully added to the..."
      ]
     },
     "execution_count": 7,
     "metadata": {},
     "output_type": "execute_result"
    }
   ],
   "source": [
    "# Drop the Text Summarization UDF if needed\n",
    "cursor.query(\"DROP UDF IF EXISTS SpeechRecognizer;\").df()\n",
    "\n",
    "# Create a Text Summarization UDF using Hugging Face\n",
    "text_summarizer_udf_creation = \"\"\"\n",
    "        CREATE UDF SpeechRecognizer \n",
    "        TYPE HuggingFace \n",
    "        'task' 'automatic-speech-recognition' \n",
    "        'model' 'openai/whisper-base';\n",
    "        \"\"\"\n",
    "cursor.query(text_summarizer_udf_creation).df()"
   ]
  },
  {
   "cell_type": "code",
   "execution_count": 8,
   "metadata": {
    "execution": {
     "iopub.execute_input": "2023-05-23T00:06:34.516237Z",
     "iopub.status.busy": "2023-05-23T00:06:34.515975Z",
     "iopub.status.idle": "2023-05-23T00:06:44.316466Z",
     "shell.execute_reply": "2023-05-23T00:06:44.315248Z"
    }
   },
   "outputs": [
    {
     "data": {
      "text/html": [
       "<div>\n",
       "<style scoped>\n",
       "    .dataframe tbody tr th:only-of-type {\n",
       "        vertical-align: middle;\n",
       "    }\n",
       "\n",
       "    .dataframe tbody tr th {\n",
       "        vertical-align: top;\n",
       "    }\n",
       "\n",
       "    .dataframe thead th {\n",
       "        text-align: right;\n",
       "    }\n",
       "</style>\n",
       "<table border=\"1\" class=\"dataframe\">\n",
       "  <thead>\n",
       "    <tr style=\"text-align: right;\">\n",
       "      <th></th>\n",
       "    </tr>\n",
       "  </thead>\n",
       "  <tbody>\n",
       "  </tbody>\n",
       "</table><br><br>\n",
       "</div>"
      ],
      "text/plain": [
       "Empty DataFrame\n",
       "Columns: []\n",
       "Index: []"
      ]
     },
     "execution_count": 8,
     "metadata": {},
     "output_type": "execute_result"
    }
   ],
   "source": [
    "# Drop the table if needed\n",
    "cursor.query(\"DROP TABLE IF EXISTS TEXT_SUMMARY;\").df()\n",
    "\n",
    "\n",
    "# Create a materialized view of the text summarization output\n",
    "text_summarization_query = \"\"\"\n",
    "    CREATE MATERIALIZED VIEW \n",
    "    TEXT_SUMMARY(text) AS \n",
    "    SELECT SpeechRecognizer(audio) FROM VIDEOS; \n",
    "    \"\"\"\n",
    "cursor.query(text_summarization_query).df()"
   ]
  },
  {
   "cell_type": "code",
   "execution_count": 9,
   "metadata": {
    "execution": {
     "iopub.execute_input": "2023-05-23T00:06:44.321428Z",
     "iopub.status.busy": "2023-05-23T00:06:44.321153Z",
     "iopub.status.idle": "2023-05-23T00:06:47.200517Z",
     "shell.execute_reply": "2023-05-23T00:06:47.199220Z"
    }
   },
   "outputs": [
    {
     "data": {
      "text/html": [
       "<div>\n",
       "<style scoped>\n",
       "    .dataframe tbody tr th:only-of-type {\n",
       "        vertical-align: middle;\n",
       "    }\n",
       "\n",
       "    .dataframe tbody tr th {\n",
       "        vertical-align: top;\n",
       "    }\n",
       "\n",
       "    .dataframe thead th {\n",
       "        text-align: right;\n",
       "    }\n",
       "</style>\n",
       "<table border=\"1\" class=\"dataframe\">\n",
       "  <thead>\n",
       "    <tr style=\"text-align: right;\">\n",
       "      <th></th>\n",
       "      <th>chatgpt.response</th>\n",
       "    </tr>\n",
       "  </thead>\n",
       "  <tbody>\n",
       "    <tr>\n",
       "      <th>0</th>\n",
       "      <td>Yes, the video summary is related to the Ukrai...</td>\n",
       "    </tr>\n",
       "  </tbody>\n",
       "</table><br><br>\n",
       "</div>"
      ],
      "text/plain": [
       "                                    chatgpt.response\n",
       "0  Yes, the video summary is related to the Ukrai..."
      ]
     },
     "execution_count": 9,
     "metadata": {},
     "output_type": "execute_result"
    }
   ],
   "source": [
    "# Run ChatGPT over the Text Summary extracted by Whisper\n",
    "chatgpt_udf = \"\"\"\n",
    "      SELECT ChatGPT('Is this video summary related to Ukraine russia war',text) \n",
    "      FROM TEXT_SUMMARY;\n",
    "      \"\"\"\n",
    "cursor.query(chatgpt_udf).df()"
   ]
  },
  {
   "attachments": {},
   "cell_type": "markdown",
   "metadata": {},
   "source": [
    "## Check if it works on an SNL Video"
   ]
  },
  {
   "cell_type": "code",
   "execution_count": 10,
   "metadata": {
    "execution": {
     "iopub.execute_input": "2023-05-23T00:06:47.205930Z",
     "iopub.status.busy": "2023-05-23T00:06:47.205429Z",
     "iopub.status.idle": "2023-05-23T00:06:47.450863Z",
     "shell.execute_reply": "2023-05-23T00:06:47.450094Z"
    }
   },
   "outputs": [
    {
     "name": "stdout",
     "output_type": "stream",
     "text": [
      "File 'snl.mp4' already there; not retrieving.\r\n"
     ]
    },
    {
     "data": {
      "text/html": [
       "<div>\n",
       "<style scoped>\n",
       "    .dataframe tbody tr th:only-of-type {\n",
       "        vertical-align: middle;\n",
       "    }\n",
       "\n",
       "    .dataframe tbody tr th {\n",
       "        vertical-align: top;\n",
       "    }\n",
       "\n",
       "    .dataframe thead th {\n",
       "        text-align: right;\n",
       "    }\n",
       "</style>\n",
       "<table border=\"1\" class=\"dataframe\">\n",
       "  <thead>\n",
       "    <tr style=\"text-align: right;\">\n",
       "      <th></th>\n",
       "      <th>0</th>\n",
       "    </tr>\n",
       "  </thead>\n",
       "  <tbody>\n",
       "    <tr>\n",
       "      <th>0</th>\n",
       "      <td>Number of loaded VIDEO: 1</td>\n",
       "    </tr>\n",
       "  </tbody>\n",
       "</table><br><br>\n",
       "</div>"
      ],
      "text/plain": [
       "                           0\n",
       "0  Number of loaded VIDEO: 1"
      ]
     },
     "execution_count": 10,
     "metadata": {},
     "output_type": "execute_result"
    }
   ],
   "source": [
    "# Download Entertainment Video\n",
    "!wget -nc \"https://www.dropbox.com/s/u66im8jw2s1dmuw/snl.mp4?dl=0\" -O snl.mp4\n",
    "\n",
    "cursor.query(\"DROP TABLE IF EXISTS SNL_VIDEO;\").df()\n",
    "\n",
    "cursor.query(\"LOAD VIDEO 'snl.mp4' INTO SNL_VIDEO;\").df()"
   ]
  },
  {
   "cell_type": "code",
   "execution_count": 12,
   "metadata": {
    "execution": {
     "iopub.execute_input": "2023-05-23T00:06:48.160342Z",
     "iopub.status.busy": "2023-05-23T00:06:48.159881Z",
     "iopub.status.idle": "2023-05-23T00:07:03.473346Z",
     "shell.execute_reply": "2023-05-23T00:07:03.472552Z"
    }
   },
   "outputs": [
    {
     "data": {
      "text/html": [
       "<div>\n",
       "<style scoped>\n",
       "    .dataframe tbody tr th:only-of-type {\n",
       "        vertical-align: middle;\n",
       "    }\n",
       "\n",
       "    .dataframe tbody tr th {\n",
       "        vertical-align: top;\n",
       "    }\n",
       "\n",
       "    .dataframe thead th {\n",
       "        text-align: right;\n",
       "    }\n",
       "</style>\n",
       "<table border=\"1\" class=\"dataframe\">\n",
       "  <thead>\n",
       "    <tr style=\"text-align: right;\">\n",
       "      <th></th>\n",
       "    </tr>\n",
       "  </thead>\n",
       "  <tbody>\n",
       "  </tbody>\n",
       "</table><br><br>\n",
       "</div>"
      ],
      "text/plain": [
       "Empty DataFrame\n",
       "Columns: []\n",
       "Index: []"
      ]
     },
     "execution_count": 12,
     "metadata": {},
     "output_type": "execute_result"
    }
   ],
   "source": [
    "# Drop the table if needed\n",
    "cursor.query(\"DROP TABLE IF EXISTS SNL_TEXT_SUMMARY;\").df()\n",
    "\n",
    "\n",
    "# Create a materialized view of the text summarization output\n",
    "text_summarization_query = \"\"\"\n",
    "    CREATE MATERIALIZED VIEW \n",
    "    SNL_TEXT_SUMMARY(text) AS \n",
    "    SELECT SpeechRecognizer(audio) FROM SNL_VIDEO;\n",
    "    \"\"\"\n",
    "cursor.query(text_summarization_query).df()"
   ]
  },
  {
   "attachments": {},
   "cell_type": "markdown",
   "metadata": {},
   "source": [
    "### ChatGPT: Is this video summary related to Ukraine War?"
   ]
  },
  {
   "cell_type": "code",
   "execution_count": 13,
   "metadata": {
    "execution": {
     "iopub.execute_input": "2023-05-23T00:07:03.477539Z",
     "iopub.status.busy": "2023-05-23T00:07:03.477298Z",
     "iopub.status.idle": "2023-05-23T00:07:06.799483Z",
     "shell.execute_reply": "2023-05-23T00:07:06.798725Z"
    }
   },
   "outputs": [
    {
     "data": {
      "text/html": [
       "<div>\n",
       "<style scoped>\n",
       "    .dataframe tbody tr th:only-of-type {\n",
       "        vertical-align: middle;\n",
       "    }\n",
       "\n",
       "    .dataframe tbody tr th {\n",
       "        vertical-align: top;\n",
       "    }\n",
       "\n",
       "    .dataframe thead th {\n",
       "        text-align: right;\n",
       "    }\n",
       "</style>\n",
       "<table border=\"1\" class=\"dataframe\">\n",
       "  <thead>\n",
       "    <tr style=\"text-align: right;\">\n",
       "      <th></th>\n",
       "      <th>chatgpt.response</th>\n",
       "    </tr>\n",
       "  </thead>\n",
       "  <tbody>\n",
       "    <tr>\n",
       "      <th>0</th>\n",
       "      <td>No, this video summary is not related to the U...</td>\n",
       "    </tr>\n",
       "  </tbody>\n",
       "</table><br><br>\n",
       "</div>"
      ],
      "text/plain": [
       "                                    chatgpt.response\n",
       "0  No, this video summary is not related to the U..."
      ]
     },
     "execution_count": 13,
     "metadata": {},
     "output_type": "execute_result"
    }
   ],
   "source": [
    "# Run ChatGPT over the Text Summary extracted by Whisper\n",
    "chatgpt_udf = \"\"\"\n",
    "      SELECT ChatGPT('Is this video summary related to Ukraine russia war',text) \n",
    "      FROM SNL_TEXT_SUMMARY;\n",
    "      \"\"\"\n",
    "cursor.query(chatgpt_udf).df()"
   ]
  },
  {
   "attachments": {},
   "cell_type": "markdown",
   "metadata": {},
   "source": [
    "### ChatGPT: Is this video summary related to a hospital?"
   ]
  },
  {
   "cell_type": "code",
   "execution_count": 14,
   "metadata": {
    "execution": {
     "iopub.execute_input": "2023-05-23T00:07:06.803728Z",
     "iopub.status.busy": "2023-05-23T00:07:06.803480Z",
     "iopub.status.idle": "2023-05-23T00:07:10.172255Z",
     "shell.execute_reply": "2023-05-23T00:07:10.171521Z"
    }
   },
   "outputs": [
    {
     "data": {
      "text/html": [
       "<div>\n",
       "<style scoped>\n",
       "    .dataframe tbody tr th:only-of-type {\n",
       "        vertical-align: middle;\n",
       "    }\n",
       "\n",
       "    .dataframe tbody tr th {\n",
       "        vertical-align: top;\n",
       "    }\n",
       "\n",
       "    .dataframe thead th {\n",
       "        text-align: right;\n",
       "    }\n",
       "</style>\n",
       "<table border=\"1\" class=\"dataframe\">\n",
       "  <thead>\n",
       "    <tr style=\"text-align: right;\">\n",
       "      <th></th>\n",
       "      <th>chatgpt.response</th>\n",
       "    </tr>\n",
       "  </thead>\n",
       "  <tbody>\n",
       "    <tr>\n",
       "      <th>0</th>\n",
       "      <td>Yes, the video summary is related to a hospita...</td>\n",
       "    </tr>\n",
       "  </tbody>\n",
       "</table><br><br>\n",
       "</div>"
      ],
      "text/plain": [
       "                                    chatgpt.response\n",
       "0  Yes, the video summary is related to a hospita..."
      ]
     },
     "execution_count": 14,
     "metadata": {},
     "output_type": "execute_result"
    }
   ],
   "source": [
    "# Run ChatGPT over the Text Summary extracted by Whisper\n",
    "chatgpt_udf = \"\"\"\n",
    "      SELECT ChatGPT('Is this video summary related to a hospital',text) \n",
    "      FROM SNL_TEXT_SUMMARY;\n",
    "      \"\"\"\n",
    "cursor.query(chatgpt_udf).df()"
   ]
  }
 ],
 "metadata": {
  "kernelspec": {
   "display_name": "env_ish_py3.8",
   "language": "python",
   "name": "python3"
  },
  "language_info": {
   "codemirror_mode": {
    "name": "ipython",
    "version": 3
   },
   "file_extension": ".py",
   "mimetype": "text/x-python",
   "name": "python",
   "nbconvert_exporter": "python",
   "pygments_lexer": "ipython3",
   "version": "3.10.11"
  }
 },
 "nbformat": 4,
 "nbformat_minor": 2
}

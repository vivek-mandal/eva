{
 "cells": [
  {
   "attachments": {},
   "cell_type": "markdown",
   "metadata": {},
   "source": [
    "# ChatGPT Tutorial"
   ]
  },
  {
   "attachments": {},
   "cell_type": "markdown",
   "metadata": {},
   "source": [
    "<table align=\"left\">\n",
    "  <td>\n",
    "    <a target=\"_blank\" href=\"https://colab.research.google.com/github/georgia-tech-db/eva/blob/master/tutorials/08-chatgpt.ipynb\"><img src=\"https://www.tensorflow.org/images/colab_logo_32px.png\" /> Run on Google Colab</a>\n",
    "  </td>\n",
    "  <td>\n",
    "    <a target=\"_blank\" href=\"https://github.com/georgia-tech-db/eva/blob/master/tutorials/08-chatgpt.ipynb\"><img src=\"https://www.tensorflow.org/images/GitHub-Mark-32px.png\" /> View source on GitHub</a>\n",
    "  </td>\n",
    "  <td>\n",
    "    <a target=\"_blank\" href=\"https://github.com/georgia-tech-db/eva/raw/master/tutorials/08-chatgpt.ipynb\"><img src=\"https://www.tensorflow.org/images/download_logo_32px.png\" /> Download notebook</a>\n",
    "  </td>\n",
    "</table><br><br>"
   ]
  },
  {
   "attachments": {},
   "cell_type": "markdown",
   "metadata": {},
   "source": [
    "### Connect to EvaDB"
   ]
  },
  {
   "cell_type": "code",
   "execution_count": 21,
   "metadata": {
    "execution": {
     "iopub.execute_input": "2023-06-17T04:36:32.249549Z",
     "iopub.status.busy": "2023-06-17T04:36:32.249067Z",
     "iopub.status.idle": "2023-06-17T04:36:40.567227Z",
     "shell.execute_reply": "2023-06-17T04:36:40.566332Z"
    }
   },
   "outputs": [
    {
     "name": "stdout",
     "output_type": "stream",
     "text": [
      "Note: you may need to restart the kernel to use updated packages.\n"
     ]
    },
    {
     "name": "stderr",
     "output_type": "stream",
     "text": [
      "Could not find image processor class in the image processor config or the model config. Loading based on pattern matching with the model's feature extractor configuration.\n"
     ]
    }
   ],
   "source": [
    "%pip install --quiet \"evadb[document,notebook]\"\n",
    "import evadb\n",
    "cursor = evadb.connect().cursor()"
   ]
  },
  {
   "attachments": {},
   "cell_type": "markdown",
   "metadata": {},
   "source": [
    "## Download News Video and ChatGPT UDF "
   ]
  },
  {
   "cell_type": "code",
   "execution_count": 22,
   "metadata": {
    "execution": {
     "iopub.execute_input": "2023-06-17T04:36:40.572073Z",
     "iopub.status.busy": "2023-06-17T04:36:40.571781Z",
     "iopub.status.idle": "2023-06-17T04:36:42.009165Z",
     "shell.execute_reply": "2023-06-17T04:36:42.007344Z"
    }
   },
   "outputs": [
    {
     "name": "stdout",
     "output_type": "stream",
     "text": [
      "--2023-06-17 00:46:24--  https://www.dropbox.com/s/rfm1kds2mv77pca/russia_ukraine.mp4?dl=0\n",
      "Resolving www.dropbox.com (www.dropbox.com)... 162.125.5.18, 2620:100:601f:18::a27d:912\n",
      "Connecting to www.dropbox.com (www.dropbox.com)|162.125.5.18|:443... connected.\n",
      "HTTP request sent, awaiting response... 302 Found\n",
      "Location: /s/raw/rfm1kds2mv77pca/russia_ukraine.mp4 [following]\n",
      "--2023-06-17 00:46:24--  https://www.dropbox.com/s/raw/rfm1kds2mv77pca/russia_ukraine.mp4\n",
      "Reusing existing connection to www.dropbox.com:443.\n",
      "HTTP request sent, awaiting response... 302 Found\n",
      "Location: https://uc097ecffd1c722dd8cc24688cc3.dl.dropboxusercontent.com/cd/0/inline/B-LyTRbfB-OdytIJzCyYryP0ueyCd22Y568u4Db6oEA_myn2wzXryIusBvGJxnhsQUs2GqaP3FZjUgAaiHUybuhrePYJZbTiD6U4Ef2Oqa_-5esrinFdFEddIiUvEbyA3kSBSdLGdHmtjkO7JP6gVnERyxT1QMUyMkfNGGuD36CUuw/file# [following]\n",
      "--2023-06-17 00:46:25--  https://uc097ecffd1c722dd8cc24688cc3.dl.dropboxusercontent.com/cd/0/inline/B-LyTRbfB-OdytIJzCyYryP0ueyCd22Y568u4Db6oEA_myn2wzXryIusBvGJxnhsQUs2GqaP3FZjUgAaiHUybuhrePYJZbTiD6U4Ef2Oqa_-5esrinFdFEddIiUvEbyA3kSBSdLGdHmtjkO7JP6gVnERyxT1QMUyMkfNGGuD36CUuw/file\n",
      "Resolving uc097ecffd1c722dd8cc24688cc3.dl.dropboxusercontent.com (uc097ecffd1c722dd8cc24688cc3.dl.dropboxusercontent.com)... 162.125.5.15, 2620:100:601f:15::a27d:90f\n",
      "Connecting to uc097ecffd1c722dd8cc24688cc3.dl.dropboxusercontent.com (uc097ecffd1c722dd8cc24688cc3.dl.dropboxusercontent.com)|162.125.5.15|:443... connected.\n",
      "HTTP request sent, awaiting response... 200 OK\n",
      "Length: 5341582 (5.1M) [video/mp4]\n",
      "Saving to: 'russia_ukraine.mp4'\n",
      "\n",
      "russia_ukraine.mp4  100%[===================>]   5.09M  26.4MB/s    in 0.2s    \n",
      "\n",
      "2023-06-17 00:46:28 (26.4 MB/s) - 'russia_ukraine.mp4' saved [5341582/5341582]\n",
      "\n",
      "File 'chatgpt.py' already there; not retrieving.\n"
     ]
    }
   ],
   "source": [
    "# Download News Video\n",
    "!wget -nc \"https://www.dropbox.com/s/rfm1kds2mv77pca/russia_ukraine.mp4?dl=0\" -O russia_ukraine.mp4\n",
    "\n",
    "# Download ChatGPT UDF if needed\n",
    "!wget -nc https://raw.githubusercontent.com/georgia-tech-db/eva/master/evadb/udfs/chatgpt.py -O chatgpt.py"
   ]
  },
  {
   "attachments": {},
   "cell_type": "markdown",
   "metadata": {},
   "source": [
    "## Set your OpenAI API key here"
   ]
  },
  {
   "cell_type": "code",
   "execution_count": 23,
   "metadata": {
    "execution": {
     "iopub.execute_input": "2023-06-17T04:36:42.015427Z",
     "iopub.status.busy": "2023-06-17T04:36:42.014886Z",
     "iopub.status.idle": "2023-06-17T04:36:42.422968Z",
     "shell.execute_reply": "2023-06-17T04:36:42.421867Z"
    }
   },
   "outputs": [],
   "source": [
    "# Set your OpenAI key as an environment variable\n",
    "import os\n",
    "#os.environ['OPENAI_KEY'] = 'sk-....................'\n",
    "open_ai_key = os.environ.get('OPENAI_KEY')"
   ]
  },
  {
   "cell_type": "code",
   "execution_count": 24,
   "metadata": {
    "execution": {
     "iopub.execute_input": "2023-05-23T00:06:31.653670Z",
     "iopub.status.busy": "2023-05-23T00:06:31.653419Z",
     "iopub.status.idle": "2023-05-23T00:06:31.792077Z",
     "shell.execute_reply": "2023-05-23T00:06:31.791031Z"
    }
   },
   "outputs": [
    {
     "data": {
      "text/html": [
       "<div>\n",
       "<style scoped>\n",
       "    .dataframe tbody tr th:only-of-type {\n",
       "        vertical-align: middle;\n",
       "    }\n",
       "\n",
       "    .dataframe tbody tr th {\n",
       "        vertical-align: top;\n",
       "    }\n",
       "\n",
       "    .dataframe thead th {\n",
       "        text-align: right;\n",
       "    }\n",
       "</style>\n",
       "<table border=\"1\" class=\"dataframe\">\n",
       "  <thead>\n",
       "    <tr style=\"text-align: right;\">\n",
       "      <th></th>\n",
       "      <th>0</th>\n",
       "    </tr>\n",
       "  </thead>\n",
       "  <tbody>\n",
       "    <tr>\n",
       "      <th>0</th>\n",
       "      <td>UDF ChatGPT successfully added to the database.</td>\n",
       "    </tr>\n",
       "  </tbody>\n",
       "</table>\n",
       "</div>"
      ],
      "text/plain": [
       "                                                 0\n",
       "0  UDF ChatGPT successfully added to the database."
      ]
     },
     "execution_count": 24,
     "metadata": {},
     "output_type": "execute_result"
    }
   ],
   "source": [
    "# Drop the UDF if it already exists\n",
    "cursor.query(\"DROP UDF IF EXISTS ChatGPT;\").df()\n",
    "\n",
    "# Register the ChatGPT UDF in EvaDB\n",
    "create_udf_query = f\"\"\"CREATE UDF ChatGPT\n",
    "                       IMPL 'chatgpt.py' \"\"\"\n",
    "cursor.query(create_udf_query).df()\n"
   ]
  },
  {
   "attachments": {},
   "cell_type": "markdown",
   "metadata": {},
   "source": [
    "## Run the ChatGPT UDF"
   ]
  },
  {
   "attachments": {},
   "cell_type": "markdown",
   "metadata": {},
   "source": [
    "![OPENAI UDF](chatgpt.png)"
   ]
  },
  {
   "cell_type": "code",
   "execution_count": 25,
   "metadata": {
    "execution": {
     "iopub.execute_input": "2023-05-23T00:06:31.796595Z",
     "iopub.status.busy": "2023-05-23T00:06:31.796352Z",
     "iopub.status.idle": "2023-05-23T00:06:31.949025Z",
     "shell.execute_reply": "2023-05-23T00:06:31.947809Z"
    }
   },
   "outputs": [
    {
     "name": "stderr",
     "output_type": "stream",
     "text": [
      "06-17-2023 00:46:29 WARNING[drop_object_executor:drop_object_executor.py:_handle_drop_table:0050] Table: VIDEOS does not exist\n"
     ]
    },
    {
     "data": {
      "text/html": [
       "<div>\n",
       "<style scoped>\n",
       "    .dataframe tbody tr th:only-of-type {\n",
       "        vertical-align: middle;\n",
       "    }\n",
       "\n",
       "    .dataframe tbody tr th {\n",
       "        vertical-align: top;\n",
       "    }\n",
       "\n",
       "    .dataframe thead th {\n",
       "        text-align: right;\n",
       "    }\n",
       "</style>\n",
       "<table border=\"1\" class=\"dataframe\">\n",
       "  <thead>\n",
       "    <tr style=\"text-align: right;\">\n",
       "      <th></th>\n",
       "      <th>0</th>\n",
       "    </tr>\n",
       "  </thead>\n",
       "  <tbody>\n",
       "    <tr>\n",
       "      <th>0</th>\n",
       "      <td>Number of loaded VIDEO: 1</td>\n",
       "    </tr>\n",
       "  </tbody>\n",
       "</table>\n",
       "</div>"
      ],
      "text/plain": [
       "                           0\n",
       "0  Number of loaded VIDEO: 1"
      ]
     },
     "execution_count": 25,
     "metadata": {},
     "output_type": "execute_result"
    }
   ],
   "source": [
    "#load the video\n",
    "cursor.drop_table(\"VIDEOS\", if_exists=True).df()\n",
    "cursor.query(\"LOAD VIDEO 'russia_ukraine.mp4' INTO VIDEOS;\").df()"
   ]
  },
  {
   "cell_type": "code",
   "execution_count": 26,
   "metadata": {
    "execution": {
     "iopub.execute_input": "2023-05-23T00:06:31.953783Z",
     "iopub.status.busy": "2023-05-23T00:06:31.953419Z",
     "iopub.status.idle": "2023-05-23T00:06:34.511509Z",
     "shell.execute_reply": "2023-05-23T00:06:34.510590Z"
    }
   },
   "outputs": [
    {
     "name": "stderr",
     "output_type": "stream",
     "text": [
      "06-17-2023 00:46:29 WARNING[drop_object_executor:drop_object_executor.py:_handle_drop_udf:0082] UDF SpeechRecognizer does not exist, therefore cannot be dropped.\n",
      "/nethome/jarulraj3/eva/test_evadb/lib/python3.10/site-packages/transformers/generation/utils.py:1353: UserWarning: Using `max_length`'s default (448) to control the generation length. This behaviour is deprecated and will be removed from the config in v5 of Transformers -- we recommend using `max_new_tokens` to control the maximum length of the generation.\n",
      "  warnings.warn(\n"
     ]
    },
    {
     "data": {
      "text/html": [
       "<div>\n",
       "<style scoped>\n",
       "    .dataframe tbody tr th:only-of-type {\n",
       "        vertical-align: middle;\n",
       "    }\n",
       "\n",
       "    .dataframe tbody tr th {\n",
       "        vertical-align: top;\n",
       "    }\n",
       "\n",
       "    .dataframe thead th {\n",
       "        text-align: right;\n",
       "    }\n",
       "</style>\n",
       "<table border=\"1\" class=\"dataframe\">\n",
       "  <thead>\n",
       "    <tr style=\"text-align: right;\">\n",
       "      <th></th>\n",
       "      <th>0</th>\n",
       "    </tr>\n",
       "  </thead>\n",
       "  <tbody>\n",
       "    <tr>\n",
       "      <th>0</th>\n",
       "      <td>UDF SpeechRecognizer successfully added to the...</td>\n",
       "    </tr>\n",
       "  </tbody>\n",
       "</table>\n",
       "</div>"
      ],
      "text/plain": [
       "                                                   0\n",
       "0  UDF SpeechRecognizer successfully added to the..."
      ]
     },
     "execution_count": 26,
     "metadata": {},
     "output_type": "execute_result"
    }
   ],
   "source": [
    "# Drop the Text Summarization UDF if needed\n",
    "cursor.query(\"DROP UDF IF EXISTS SpeechRecognizer;\").df()\n",
    "\n",
    "# Create a Text Summarization UDF using Hugging Face\n",
    "text_summarizer_udf_creation = \"\"\"\n",
    "        CREATE UDF SpeechRecognizer \n",
    "        TYPE HuggingFace \n",
    "        'task' 'automatic-speech-recognition' \n",
    "        'model' 'openai/whisper-base';\n",
    "        \"\"\"\n",
    "cursor.query(text_summarizer_udf_creation).df()"
   ]
  },
  {
   "cell_type": "code",
   "execution_count": 27,
   "metadata": {
    "execution": {
     "iopub.execute_input": "2023-05-23T00:06:34.516237Z",
     "iopub.status.busy": "2023-05-23T00:06:34.515975Z",
     "iopub.status.idle": "2023-05-23T00:06:44.316466Z",
     "shell.execute_reply": "2023-05-23T00:06:44.315248Z"
    }
   },
   "outputs": [
    {
     "name": "stderr",
     "output_type": "stream",
     "text": [
      "06-17-2023 00:46:32 WARNING[drop_object_executor:drop_object_executor.py:_handle_drop_table:0050] Table: TEXT_SUMMARY does not exist\n",
      "2023-06-17 00:46:34,758\tINFO worker.py:1625 -- Started a local Ray instance.\n",
      "\u001b[2m\u001b[36m(ray_parallel pid=2627107)\u001b[0m /nethome/jarulraj3/eva/test_evadb/lib/python3.10/site-packages/transformers/generation/utils.py:1353: UserWarning: Using `max_length`'s default (448) to control the generation length. This behaviour is deprecated and will be removed from the config in v5 of Transformers -- we recommend using `max_new_tokens` to control the maximum length of the generation.\n",
      "\u001b[2m\u001b[36m(ray_parallel pid=2627107)\u001b[0m   warnings.warn(\n"
     ]
    },
    {
     "data": {
      "text/html": [
       "<div>\n",
       "<style scoped>\n",
       "    .dataframe tbody tr th:only-of-type {\n",
       "        vertical-align: middle;\n",
       "    }\n",
       "\n",
       "    .dataframe tbody tr th {\n",
       "        vertical-align: top;\n",
       "    }\n",
       "\n",
       "    .dataframe thead th {\n",
       "        text-align: right;\n",
       "    }\n",
       "</style>\n",
       "<table border=\"1\" class=\"dataframe\">\n",
       "  <thead>\n",
       "    <tr style=\"text-align: right;\">\n",
       "      <th></th>\n",
       "    </tr>\n",
       "  </thead>\n",
       "  <tbody>\n",
       "  </tbody>\n",
       "</table>\n",
       "</div>"
      ],
      "text/plain": [
       "Empty DataFrame\n",
       "Columns: []\n",
       "Index: []"
      ]
     },
     "execution_count": 27,
     "metadata": {},
     "output_type": "execute_result"
    }
   ],
   "source": [
    "# Drop the table if needed\n",
    "cursor.query(\"DROP TABLE IF EXISTS TEXT_SUMMARY;\").df()\n",
    "\n",
    "\n",
    "# Create a materialized view of the text summarization output\n",
    "text_summarization_query = \"\"\"\n",
    "    CREATE MATERIALIZED VIEW \n",
    "    TEXT_SUMMARY(text) AS \n",
    "    SELECT SpeechRecognizer(audio) FROM VIDEOS; \n",
    "    \"\"\"\n",
    "cursor.query(text_summarization_query).df()"
   ]
  },
  {
   "cell_type": "code",
   "execution_count": 29,
   "metadata": {
    "execution": {
     "iopub.execute_input": "2023-05-23T00:06:44.321428Z",
     "iopub.status.busy": "2023-05-23T00:06:44.321153Z",
     "iopub.status.idle": "2023-05-23T00:06:47.200517Z",
     "shell.execute_reply": "2023-05-23T00:06:47.199220Z"
    }
   },
   "outputs": [
    {
     "data": {
      "text/html": [
       "<div>\n",
       "<style scoped>\n",
       "    .dataframe tbody tr th:only-of-type {\n",
       "        vertical-align: middle;\n",
       "    }\n",
       "\n",
       "    .dataframe tbody tr th {\n",
       "        vertical-align: top;\n",
       "    }\n",
       "\n",
       "    .dataframe thead th {\n",
       "        text-align: right;\n",
       "    }\n",
       "</style>\n",
       "<table border=\"1\" class=\"dataframe\">\n",
       "  <thead>\n",
       "    <tr style=\"text-align: right;\">\n",
       "      <th></th>\n",
       "      <th>chatgpt.response</th>\n",
       "    </tr>\n",
       "  </thead>\n",
       "  <tbody>\n",
       "    <tr>\n",
       "      <th>0</th>\n",
       "      <td>Yes, the video summary is related to the Ukrai...</td>\n",
       "    </tr>\n",
       "  </tbody>\n",
       "</table>\n",
       "</div>"
      ],
      "text/plain": [
       "                                    chatgpt.response\n",
       "0  Yes, the video summary is related to the Ukrai..."
      ]
     },
     "execution_count": 29,
     "metadata": {},
     "output_type": "execute_result"
    }
   ],
   "source": [
    "# Run ChatGPT over the Text Summary extracted by Whisper\n",
    "chatgpt_udf = \"\"\"\n",
    "      SELECT ChatGPT('Is this video summary related to Ukraine russia war',text) \n",
    "      FROM TEXT_SUMMARY;\n",
    "      \"\"\"\n",
    "cursor.query(chatgpt_udf).df()"
   ]
  },
  {
   "attachments": {},
   "cell_type": "markdown",
   "metadata": {},
   "source": [
    "## Check if it works on an SNL Video"
   ]
  },
  {
   "cell_type": "code",
   "execution_count": 30,
   "metadata": {
    "execution": {
     "iopub.execute_input": "2023-05-23T00:06:47.205930Z",
     "iopub.status.busy": "2023-05-23T00:06:47.205429Z",
     "iopub.status.idle": "2023-05-23T00:06:47.450863Z",
     "shell.execute_reply": "2023-05-23T00:06:47.450094Z"
    }
   },
   "outputs": [
    {
     "name": "stdout",
     "output_type": "stream",
     "text": [
      "--2023-06-17 00:51:02--  https://www.dropbox.com/s/u66im8jw2s1dmuw/snl.mp4?dl=0\n",
      "Resolving www.dropbox.com (www.dropbox.com)... 162.125.5.18, 2620:100:601f:18::a27d:912\n",
      "Connecting to www.dropbox.com (www.dropbox.com)|162.125.5.18|:443... connected.\n",
      "HTTP request sent, awaiting response... 302 Found\n",
      "Location: /s/raw/u66im8jw2s1dmuw/snl.mp4 [following]\n",
      "--2023-06-17 00:51:02--  https://www.dropbox.com/s/raw/u66im8jw2s1dmuw/snl.mp4\n",
      "Reusing existing connection to www.dropbox.com:443.\n",
      "HTTP request sent, awaiting response... 302 Found\n",
      "Location: https://uc6c52df43ed7de6f5fd0218310c.dl.dropboxusercontent.com/cd/0/inline/B-KmCchrnFb-umjFViXmS8ZQvVmAJ9I6f0d81EaSJq39A5eFpmOPZEKODatTy6FN4HQZiJUJs91r8x6_dX0QfxsabL-1iGbzx-lvdFlWD1LDKTXJH2tYC5I3NnWUmWqgW5m01rChaO3GXV2087MJNS29imvKNIEKxpc5BaUdY6J2gw/file# [following]\n",
      "--2023-06-17 00:51:03--  https://uc6c52df43ed7de6f5fd0218310c.dl.dropboxusercontent.com/cd/0/inline/B-KmCchrnFb-umjFViXmS8ZQvVmAJ9I6f0d81EaSJq39A5eFpmOPZEKODatTy6FN4HQZiJUJs91r8x6_dX0QfxsabL-1iGbzx-lvdFlWD1LDKTXJH2tYC5I3NnWUmWqgW5m01rChaO3GXV2087MJNS29imvKNIEKxpc5BaUdY6J2gw/file\n",
      "Resolving uc6c52df43ed7de6f5fd0218310c.dl.dropboxusercontent.com (uc6c52df43ed7de6f5fd0218310c.dl.dropboxusercontent.com)... 162.125.5.15, 2620:100:601f:15::a27d:90f\n",
      "Connecting to uc6c52df43ed7de6f5fd0218310c.dl.dropboxusercontent.com (uc6c52df43ed7de6f5fd0218310c.dl.dropboxusercontent.com)|162.125.5.15|:443... connected.\n",
      "HTTP request sent, awaiting response... 200 OK\n",
      "Length: 18793949 (18M) [video/mp4]\n",
      "Saving to: 'snl.mp4'\n",
      "\n",
      "snl.mp4             100%[===================>]  17.92M  40.7MB/s    in 0.4s    \n",
      "\n",
      "2023-06-17 00:51:04 (40.7 MB/s) - 'snl.mp4' saved [18793949/18793949]\n",
      "\n"
     ]
    },
    {
     "name": "stderr",
     "output_type": "stream",
     "text": [
      "06-17-2023 00:51:04 WARNING[drop_object_executor:drop_object_executor.py:_handle_drop_table:0050] Table: SNL_VIDEO does not exist\n"
     ]
    },
    {
     "data": {
      "text/html": [
       "<div>\n",
       "<style scoped>\n",
       "    .dataframe tbody tr th:only-of-type {\n",
       "        vertical-align: middle;\n",
       "    }\n",
       "\n",
       "    .dataframe tbody tr th {\n",
       "        vertical-align: top;\n",
       "    }\n",
       "\n",
       "    .dataframe thead th {\n",
       "        text-align: right;\n",
       "    }\n",
       "</style>\n",
       "<table border=\"1\" class=\"dataframe\">\n",
       "  <thead>\n",
       "    <tr style=\"text-align: right;\">\n",
       "      <th></th>\n",
       "      <th>0</th>\n",
       "    </tr>\n",
       "  </thead>\n",
       "  <tbody>\n",
       "    <tr>\n",
       "      <th>0</th>\n",
       "      <td>Number of loaded VIDEO: 1</td>\n",
       "    </tr>\n",
       "  </tbody>\n",
       "</table>\n",
       "</div>"
      ],
      "text/plain": [
       "                           0\n",
       "0  Number of loaded VIDEO: 1"
      ]
     },
     "execution_count": 30,
     "metadata": {},
     "output_type": "execute_result"
    }
   ],
   "source": [
    "# Download Entertainment Video\n",
    "!wget -nc \"https://www.dropbox.com/s/u66im8jw2s1dmuw/snl.mp4?dl=0\" -O snl.mp4\n",
    "\n",
    "cursor.query(\"DROP TABLE IF EXISTS SNL_VIDEO;\").df()\n",
    "\n",
    "cursor.query(\"LOAD VIDEO 'snl.mp4' INTO SNL_VIDEO;\").df()"
   ]
  },
  {
   "cell_type": "code",
   "execution_count": 31,
   "metadata": {
    "execution": {
     "iopub.execute_input": "2023-05-23T00:06:48.160342Z",
     "iopub.status.busy": "2023-05-23T00:06:48.159881Z",
     "iopub.status.idle": "2023-05-23T00:07:03.473346Z",
     "shell.execute_reply": "2023-05-23T00:07:03.472552Z"
    }
   },
   "outputs": [
    {
     "name": "stderr",
     "output_type": "stream",
     "text": [
      "06-17-2023 00:51:06 WARNING[drop_object_executor:drop_object_executor.py:_handle_drop_table:0050] Table: SNL_TEXT_SUMMARY does not exist\n",
      "\u001b[2m\u001b[36m(ray_parallel pid=2627138)\u001b[0m   warnings.warn(\n",
      "\u001b[2m\u001b[36m(ray_parallel pid=2627138)\u001b[0m   warnings.warn(\n"
     ]
    },
    {
     "data": {
      "text/html": [
       "<div>\n",
       "<style scoped>\n",
       "    .dataframe tbody tr th:only-of-type {\n",
       "        vertical-align: middle;\n",
       "    }\n",
       "\n",
       "    .dataframe tbody tr th {\n",
       "        vertical-align: top;\n",
       "    }\n",
       "\n",
       "    .dataframe thead th {\n",
       "        text-align: right;\n",
       "    }\n",
       "</style>\n",
       "<table border=\"1\" class=\"dataframe\">\n",
       "  <thead>\n",
       "    <tr style=\"text-align: right;\">\n",
       "      <th></th>\n",
       "    </tr>\n",
       "  </thead>\n",
       "  <tbody>\n",
       "  </tbody>\n",
       "</table>\n",
       "</div>"
      ],
      "text/plain": [
       "Empty DataFrame\n",
       "Columns: []\n",
       "Index: []"
      ]
     },
     "execution_count": 31,
     "metadata": {},
     "output_type": "execute_result"
    }
   ],
   "source": [
    "# Drop the table if needed\n",
    "cursor.query(\"DROP TABLE IF EXISTS SNL_TEXT_SUMMARY;\").df()\n",
    "\n",
    "\n",
    "# Create a materialized view of the text summarization output\n",
    "text_summarization_query = \"\"\"\n",
    "    CREATE MATERIALIZED VIEW \n",
    "    SNL_TEXT_SUMMARY(text) AS \n",
    "    SELECT SpeechRecognizer(audio) FROM SNL_VIDEO;\n",
    "    \"\"\"\n",
    "cursor.query(text_summarization_query).df()"
   ]
  },
  {
   "attachments": {},
   "cell_type": "markdown",
   "metadata": {},
   "source": [
    "### ChatGPT: Is this video summary related to Ukraine War?"
   ]
  },
  {
   "cell_type": "code",
   "execution_count": 32,
   "metadata": {
    "execution": {
     "iopub.execute_input": "2023-05-23T00:07:03.477539Z",
     "iopub.status.busy": "2023-05-23T00:07:03.477298Z",
     "iopub.status.idle": "2023-05-23T00:07:06.799483Z",
     "shell.execute_reply": "2023-05-23T00:07:06.798725Z"
    }
   },
   "outputs": [
    {
     "data": {
      "text/html": [
       "<div>\n",
       "<style scoped>\n",
       "    .dataframe tbody tr th:only-of-type {\n",
       "        vertical-align: middle;\n",
       "    }\n",
       "\n",
       "    .dataframe tbody tr th {\n",
       "        vertical-align: top;\n",
       "    }\n",
       "\n",
       "    .dataframe thead th {\n",
       "        text-align: right;\n",
       "    }\n",
       "</style>\n",
       "<table border=\"1\" class=\"dataframe\">\n",
       "  <thead>\n",
       "    <tr style=\"text-align: right;\">\n",
       "      <th></th>\n",
       "      <th>chatgpt.response</th>\n",
       "    </tr>\n",
       "  </thead>\n",
       "  <tbody>\n",
       "    <tr>\n",
       "      <th>0</th>\n",
       "      <td>No, this video summary is not related to the U...</td>\n",
       "    </tr>\n",
       "  </tbody>\n",
       "</table>\n",
       "</div>"
      ],
      "text/plain": [
       "                                    chatgpt.response\n",
       "0  No, this video summary is not related to the U..."
      ]
     },
     "execution_count": 32,
     "metadata": {},
     "output_type": "execute_result"
    }
   ],
   "source": [
    "# Run ChatGPT over the Text Summary extracted by Whisper\n",
    "chatgpt_udf = \"\"\"\n",
    "      SELECT ChatGPT('Is this video summary related to Ukraine russia war',text) \n",
    "      FROM SNL_TEXT_SUMMARY;\n",
    "      \"\"\"\n",
    "cursor.query(chatgpt_udf).df()"
   ]
  },
  {
   "attachments": {},
   "cell_type": "markdown",
   "metadata": {},
   "source": [
    "### ChatGPT: Is this video summary related to a hospital?"
   ]
  },
  {
   "cell_type": "code",
   "execution_count": 33,
   "metadata": {
    "execution": {
     "iopub.execute_input": "2023-05-23T00:07:06.803728Z",
     "iopub.status.busy": "2023-05-23T00:07:06.803480Z",
     "iopub.status.idle": "2023-05-23T00:07:10.172255Z",
     "shell.execute_reply": "2023-05-23T00:07:10.171521Z"
    }
   },
   "outputs": [
    {
     "data": {
      "text/html": [
       "<div>\n",
       "<style scoped>\n",
       "    .dataframe tbody tr th:only-of-type {\n",
       "        vertical-align: middle;\n",
       "    }\n",
       "\n",
       "    .dataframe tbody tr th {\n",
       "        vertical-align: top;\n",
       "    }\n",
       "\n",
       "    .dataframe thead th {\n",
       "        text-align: right;\n",
       "    }\n",
       "</style>\n",
       "<table border=\"1\" class=\"dataframe\">\n",
       "  <thead>\n",
       "    <tr style=\"text-align: right;\">\n",
       "      <th></th>\n",
       "      <th>chatgpt.response</th>\n",
       "    </tr>\n",
       "  </thead>\n",
       "  <tbody>\n",
       "    <tr>\n",
       "      <th>0</th>\n",
       "      <td>Yes, the video summary is related to a hospita...</td>\n",
       "    </tr>\n",
       "  </tbody>\n",
       "</table>\n",
       "</div>"
      ],
      "text/plain": [
       "                                    chatgpt.response\n",
       "0  Yes, the video summary is related to a hospita..."
      ]
     },
     "execution_count": 33,
     "metadata": {},
     "output_type": "execute_result"
    }
   ],
   "source": [
    "# Run ChatGPT over the Text Summary extracted by Whisper\n",
    "chatgpt_udf = \"\"\"\n",
    "      SELECT ChatGPT('Is this video summary related to a hospital',text) \n",
    "      FROM SNL_TEXT_SUMMARY;\n",
    "      \"\"\"\n",
    "cursor.query(chatgpt_udf).df()"
   ]
  }
 ],
 "metadata": {
  "kernelspec": {
   "display_name": "env_ish_py3.8",
   "language": "python",
   "name": "python3"
  },
  "language_info": {
   "codemirror_mode": {
    "name": "ipython",
    "version": 3
   },
   "file_extension": ".py",
   "mimetype": "text/x-python",
   "name": "python",
   "nbconvert_exporter": "python",
   "pygments_lexer": "ipython3",
   "version": "3.10.11"
  }
 },
 "nbformat": 4,
 "nbformat_minor": 2
}

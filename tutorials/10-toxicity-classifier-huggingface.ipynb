{
 "cells": [
  {
   "attachments": {},
   "cell_type": "markdown",
   "id": "9f2c663c",
   "metadata": {
    "pycharm": {
     "name": "#%% md\n"
    }
   },
   "source": [
    "# Toxicity Detection in Memes "
   ]
  },
  {
   "attachments": {},
   "cell_type": "markdown",
   "id": "4df1d160",
   "metadata": {
    "pycharm": {
     "name": "#%% md\n"
    }
   },
   "source": [
    "<table align=\"left\">\n",
    "  <td>\n",
    "    <a target=\"_blank\" href=\"https://colab.research.google.com/github/georgia-tech-db/eva/blob/master/tutorials/10-toxicity-classifier-huggingface.ipynb\"><img src=\"https://www.tensorflow.org/images/colab_logo_32px.png\" /> Run on Google Colab</a>\n",
    "  </td>\n",
    "  <td>\n",
    "    <a target=\"_blank\" href=\"https://github.com/georgia-tech-db/eva/blob/master/tutorials/10-toxicity-classifier-huggingface.ipynb\"><img src=\"https://www.tensorflow.org/images/GitHub-Mark-32px.png\" /> View source on GitHub</a>\n",
    "  </td>\n",
    "  <td>\n",
    "    <a target=\"_blank\" href=\"https://github.com/georgia-tech-db/eva/raw/master/tutorials/10-toxicity-classifier-huggingface.ipynb\"><img src=\"https://www.tensorflow.org/images/download_logo_32px.png\" /> Download notebook</a>\n",
    "  </td>\n",
    "</table><br><br>"
   ]
  },
  {
   "attachments": {},
   "cell_type": "markdown",
   "id": "691f5c48",
   "metadata": {
    "pycharm": {
     "name": "#%% md\n"
    }
   },
   "source": [
    "### Connect to EvaDB"
   ]
  },
  {
   "cell_type": "code",
   "execution_count": 1,
   "id": "4c06cde6",
   "metadata": {
    "execution": {
     "iopub.execute_input": "2023-06-17T04:36:56.359696Z",
     "iopub.status.busy": "2023-06-17T04:36:56.359376Z",
     "iopub.status.idle": "2023-06-17T04:37:04.830547Z",
     "shell.execute_reply": "2023-06-17T04:37:04.829619Z"
    }
   },
   "outputs": [
    {
     "name": "stdout",
     "output_type": "stream",
     "text": [
      "Note: you may need to restart the kernel to use updated packages.\n"
     ]
    },
    {
     "name": "stderr",
     "output_type": "stream",
     "text": [
      "Could not find image processor class in the image processor config or the model config. Loading based on pattern matching with the model's feature extractor configuration.\n"
     ]
    }
   ],
   "source": [
    "%pip install --quiet \"evadb[vision,document,notebook]\"\n",
    "import evadb\n",
    "cursor = evadb.connect().cursor()"
   ]
  },
  {
   "attachments": {},
   "cell_type": "markdown",
   "id": "93777906",
   "metadata": {
    "pycharm": {
     "name": "#%% md\n"
    }
   },
   "source": [
    "### Load the Memes for analysis"
   ]
  },
  {
   "cell_type": "code",
   "execution_count": 2,
   "id": "6b0280af",
   "metadata": {
    "execution": {
     "iopub.execute_input": "2023-06-17T04:37:04.835570Z",
     "iopub.status.busy": "2023-06-17T04:37:04.835178Z",
     "iopub.status.idle": "2023-06-17T04:37:06.382171Z",
     "shell.execute_reply": "2023-06-17T04:37:06.381400Z"
    },
    "pycharm": {
     "name": "#%%\n"
    }
   },
   "outputs": [
    {
     "name": "stdout",
     "output_type": "stream",
     "text": [
      "File 'meme1.jpg' already there; not retrieving.\n",
      "\n",
      "File 'meme2.jpg' already there; not retrieving.\n",
      "\n"
     ]
    },
    {
     "data": {
      "text/html": [
       "<div>\n",
       "<style scoped>\n",
       "    .dataframe tbody tr th:only-of-type {\n",
       "        vertical-align: middle;\n",
       "    }\n",
       "\n",
       "    .dataframe tbody tr th {\n",
       "        vertical-align: top;\n",
       "    }\n",
       "\n",
       "    .dataframe thead th {\n",
       "        text-align: right;\n",
       "    }\n",
       "</style>\n",
       "<table border=\"1\" class=\"dataframe\">\n",
       "  <thead>\n",
       "    <tr style=\"text-align: right;\">\n",
       "      <th></th>\n",
       "      <th>0</th>\n",
       "    </tr>\n",
       "  </thead>\n",
       "  <tbody>\n",
       "    <tr>\n",
       "      <th>0</th>\n",
       "      <td>Number of loaded IMAGE: 2</td>\n",
       "    </tr>\n",
       "  </tbody>\n",
       "</table>\n",
       "</div>"
      ],
      "text/plain": [
       "                           0\n",
       "0  Number of loaded IMAGE: 2"
      ]
     },
     "execution_count": 2,
     "metadata": {},
     "output_type": "execute_result"
    }
   ],
   "source": [
    "!wget -nc \"https://raw.githubusercontent.com/georgia-tech-db/toxicity-classification/main/meme1.jpg\"\n",
    "!wget -nc \"https://raw.githubusercontent.com/georgia-tech-db/toxicity-classification/main/meme2.jpg\"\n",
    "response = cursor.query('DROP TABLE IF EXISTS MemeImages;').df()\n",
    "cursor.query('LOAD IMAGE \"meme*.jpg\" INTO MemeImages;').df()"
   ]
  },
  {
   "attachments": {},
   "cell_type": "markdown",
   "id": "a22be817",
   "metadata": {},
   "source": [
    "### Create OCR Extractor & Toxicity Classification UDF"
   ]
  },
  {
   "cell_type": "code",
   "execution_count": 4,
   "id": "37858347",
   "metadata": {
    "execution": {
     "iopub.execute_input": "2023-06-17T04:37:06.386963Z",
     "iopub.status.busy": "2023-06-17T04:37:06.386699Z",
     "iopub.status.idle": "2023-06-17T04:37:06.848496Z",
     "shell.execute_reply": "2023-06-17T04:37:06.847443Z"
    }
   },
   "outputs": [
    {
     "name": "stderr",
     "output_type": "stream",
     "text": [
      "06-17-2023 00:50:34 WARNING[drop_object_executor:drop_object_executor.py:_handle_drop_udf:0082] UDF OCRExtractor does not exist, therefore cannot be dropped.\n",
      "Could not find image processor class in the image processor config or the model config. Loading based on pattern matching with the model's feature extractor configuration.\n",
      "06-17-2023 00:50:35 ERROR [plan_executor:plan_executor.py:execute_plan:0167] Error creating UDF: Couldn't build proto file into descriptor pool: duplicate file name sentencepiece_model.proto\n",
      "Traceback (most recent call last):\n",
      "  File \"/nethome/jarulraj3/eva/test_evadb/lib/python3.10/site-packages/evadb/executor/create_udf_executor.py\", line 148, in _try_initializing_udf\n",
      "    udf(**udf_args)\n",
      "  File \"/nethome/jarulraj3/eva/test_evadb/lib/python3.10/site-packages/evadb/udfs/abstract/abstract_udf.py\", line 33, in __init__\n",
      "    self.setup(*args, **kwargs)\n",
      "  File \"/nethome/jarulraj3/eva/test_evadb/lib/python3.10/site-packages/evadb/udfs/decorators/decorators.py\", line 35, in wrapper\n",
      "    arg_fn(*args, **kwargs)\n",
      "  File \"/home/jarulraj3/eva/evadb/udfs/ocr_extractor.py\", line 43, in setup\n",
      "    self.processor = DonutProcessor.from_pretrained(\n",
      "  File \"/nethome/jarulraj3/eva/test_evadb/lib/python3.10/site-packages/transformers/processing_utils.py\", line 184, in from_pretrained\n",
      "    args = cls._get_arguments_from_pretrained(pretrained_model_name_or_path, **kwargs)\n",
      "  File \"/nethome/jarulraj3/eva/test_evadb/lib/python3.10/site-packages/transformers/processing_utils.py\", line 228, in _get_arguments_from_pretrained\n",
      "    args.append(attribute_class.from_pretrained(pretrained_model_name_or_path, **kwargs))\n",
      "  File \"/nethome/jarulraj3/eva/test_evadb/lib/python3.10/site-packages/transformers/models/auto/tokenization_auto.py\", line 691, in from_pretrained\n",
      "    return tokenizer_class.from_pretrained(pretrained_model_name_or_path, *inputs, **kwargs)\n",
      "  File \"/nethome/jarulraj3/eva/test_evadb/lib/python3.10/site-packages/transformers/tokenization_utils_base.py\", line 1825, in from_pretrained\n",
      "    return cls._from_pretrained(\n",
      "  File \"/nethome/jarulraj3/eva/test_evadb/lib/python3.10/site-packages/transformers/tokenization_utils_base.py\", line 1988, in _from_pretrained\n",
      "    tokenizer = cls(*init_inputs, **init_kwargs)\n",
      "  File \"/nethome/jarulraj3/eva/test_evadb/lib/python3.10/site-packages/transformers/models/xlm_roberta/tokenization_xlm_roberta_fast.py\", line 155, in __init__\n",
      "    super().__init__(\n",
      "  File \"/nethome/jarulraj3/eva/test_evadb/lib/python3.10/site-packages/transformers/tokenization_utils_fast.py\", line 118, in __init__\n",
      "    fast_tokenizer = convert_slow_tokenizer(slow_tokenizer)\n",
      "  File \"/nethome/jarulraj3/eva/test_evadb/lib/python3.10/site-packages/transformers/convert_slow_tokenizer.py\", line 1307, in convert_slow_tokenizer\n",
      "    return converter_class(transformer_tokenizer).converted()\n",
      "  File \"/nethome/jarulraj3/eva/test_evadb/lib/python3.10/site-packages/transformers/convert_slow_tokenizer.py\", line 445, in __init__\n",
      "    from .utils import sentencepiece_model_pb2 as model_pb2\n",
      "  File \"/nethome/jarulraj3/eva/test_evadb/lib/python3.10/site-packages/transformers/utils/sentencepiece_model_pb2.py\", line 28, in <module>\n",
      "    DESCRIPTOR = _descriptor.FileDescriptor(\n",
      "  File \"/nethome/jarulraj3/eva/test_evadb/lib/python3.10/site-packages/google/protobuf/descriptor.py\", line 1066, in __new__\n",
      "    return _message.default_pool.AddSerializedFile(serialized_pb)\n",
      "TypeError: Couldn't build proto file into descriptor pool: duplicate file name sentencepiece_model.proto\n",
      "\n",
      "During handling of the above exception, another exception occurred:\n",
      "\n",
      "Traceback (most recent call last):\n",
      "  File \"/nethome/jarulraj3/eva/test_evadb/lib/python3.10/site-packages/evadb/executor/plan_executor.py\", line 164, in execute_plan\n",
      "    yield from output\n",
      "  File \"/nethome/jarulraj3/eva/test_evadb/lib/python3.10/site-packages/evadb/executor/create_udf_executor.py\", line 118, in exec\n",
      "    name, impl_path, udf_type, io_list, metadata = self.handle_generic_udf()\n",
      "  File \"/nethome/jarulraj3/eva/test_evadb/lib/python3.10/site-packages/evadb/executor/create_udf_executor.py\", line 85, in handle_generic_udf\n",
      "    udf = self._try_initializing_udf(impl_path)\n",
      "  File \"/nethome/jarulraj3/eva/test_evadb/lib/python3.10/site-packages/evadb/executor/create_udf_executor.py\", line 152, in _try_initializing_udf\n",
      "    raise RuntimeError(err_msg)\n",
      "RuntimeError: Error creating UDF: Couldn't build proto file into descriptor pool: duplicate file name sentencepiece_model.proto\n"
     ]
    },
    {
     "ename": "ExecutorError",
     "evalue": "Error creating UDF: Couldn't build proto file into descriptor pool: duplicate file name sentencepiece_model.proto",
     "output_type": "error",
     "traceback": [
      "\u001b[0;31m---------------------------------------------------------------------------\u001b[0m",
      "\u001b[0;31mTypeError\u001b[0m                                 Traceback (most recent call last)",
      "File \u001b[0;32m~/eva/test_evadb/lib/python3.10/site-packages/evadb/executor/create_udf_executor.py:148\u001b[0m, in \u001b[0;36mCreateUDFExecutor._try_initializing_udf\u001b[0;34m(self, impl_path, udf_args)\u001b[0m\n\u001b[1;32m    147\u001b[0m     \u001b[39m# initializing the udf class calls the setup method internally\u001b[39;00m\n\u001b[0;32m--> 148\u001b[0m     udf(\u001b[39m*\u001b[39;49m\u001b[39m*\u001b[39;49mudf_args)\n\u001b[1;32m    149\u001b[0m \u001b[39mexcept\u001b[39;00m \u001b[39mException\u001b[39;00m \u001b[39mas\u001b[39;00m e:\n",
      "File \u001b[0;32m~/eva/test_evadb/lib/python3.10/site-packages/evadb/udfs/abstract/abstract_udf.py:33\u001b[0m, in \u001b[0;36mAbstractUDF.__init__\u001b[0;34m(self, *args, **kwargs)\u001b[0m\n\u001b[1;32m     32\u001b[0m \u001b[39mdef\u001b[39;00m \u001b[39m__init__\u001b[39m(\u001b[39mself\u001b[39m, \u001b[39m*\u001b[39margs, \u001b[39m*\u001b[39m\u001b[39m*\u001b[39mkwargs):\n\u001b[0;32m---> 33\u001b[0m     \u001b[39mself\u001b[39;49m\u001b[39m.\u001b[39;49msetup(\u001b[39m*\u001b[39;49margs, \u001b[39m*\u001b[39;49m\u001b[39m*\u001b[39;49mkwargs)\n",
      "File \u001b[0;32m~/eva/test_evadb/lib/python3.10/site-packages/evadb/udfs/decorators/decorators.py:35\u001b[0m, in \u001b[0;36msetup.<locals>.inner_fn.<locals>.wrapper\u001b[0;34m(*args, **kwargs)\u001b[0m\n\u001b[1;32m     33\u001b[0m \u001b[39mdef\u001b[39;00m \u001b[39mwrapper\u001b[39m(\u001b[39m*\u001b[39margs, \u001b[39m*\u001b[39m\u001b[39m*\u001b[39mkwargs):\n\u001b[1;32m     34\u001b[0m     \u001b[39m# calling the setup function defined by the user inside the udf implementation\u001b[39;00m\n\u001b[0;32m---> 35\u001b[0m     arg_fn(\u001b[39m*\u001b[39;49margs, \u001b[39m*\u001b[39;49m\u001b[39m*\u001b[39;49mkwargs)\n",
      "File \u001b[0;32m/home/jarulraj3/eva/evadb/udfs/ocr_extractor.py:43\u001b[0m, in \u001b[0;36mOCRExtractor.setup\u001b[0;34m(self)\u001b[0m\n\u001b[1;32m     41\u001b[0m \u001b[39mfrom\u001b[39;00m \u001b[39mtransformers\u001b[39;00m \u001b[39mimport\u001b[39;00m DonutProcessor, VisionEncoderDecoderModel\n\u001b[0;32m---> 43\u001b[0m \u001b[39mself\u001b[39m\u001b[39m.\u001b[39mprocessor \u001b[39m=\u001b[39m DonutProcessor\u001b[39m.\u001b[39;49mfrom_pretrained(\n\u001b[1;32m     44\u001b[0m     \u001b[39m\"\u001b[39;49m\u001b[39mnaver-clova-ix/donut-base-finetuned-cord-v2\u001b[39;49m\u001b[39m\"\u001b[39;49m\n\u001b[1;32m     45\u001b[0m )\n\u001b[1;32m     46\u001b[0m \u001b[39mself\u001b[39m\u001b[39m.\u001b[39mmodel \u001b[39m=\u001b[39m VisionEncoderDecoderModel\u001b[39m.\u001b[39mfrom_pretrained(\n\u001b[1;32m     47\u001b[0m     \u001b[39m\"\u001b[39m\u001b[39mnaver-clova-ix/donut-base-finetuned-cord-v2\u001b[39m\u001b[39m\"\u001b[39m\n\u001b[1;32m     48\u001b[0m )\n",
      "File \u001b[0;32m~/eva/test_evadb/lib/python3.10/site-packages/transformers/processing_utils.py:184\u001b[0m, in \u001b[0;36mProcessorMixin.from_pretrained\u001b[0;34m(cls, pretrained_model_name_or_path, **kwargs)\u001b[0m\n\u001b[1;32m    155\u001b[0m \u001b[39m\u001b[39m\u001b[39mr\u001b[39m\u001b[39m\"\"\"\u001b[39;00m\n\u001b[1;32m    156\u001b[0m \u001b[39mInstantiate a processor associated with a pretrained model.\u001b[39;00m\n\u001b[1;32m    157\u001b[0m \n\u001b[0;32m   (...)\u001b[0m\n\u001b[1;32m    182\u001b[0m \u001b[39m        [`~tokenization_utils_base.PreTrainedTokenizer.from_pretrained`].\u001b[39;00m\n\u001b[1;32m    183\u001b[0m \u001b[39m\"\"\"\u001b[39;00m\n\u001b[0;32m--> 184\u001b[0m args \u001b[39m=\u001b[39m \u001b[39mcls\u001b[39;49m\u001b[39m.\u001b[39;49m_get_arguments_from_pretrained(pretrained_model_name_or_path, \u001b[39m*\u001b[39;49m\u001b[39m*\u001b[39;49mkwargs)\n\u001b[1;32m    185\u001b[0m \u001b[39mreturn\u001b[39;00m \u001b[39mcls\u001b[39m(\u001b[39m*\u001b[39margs)\n",
      "File \u001b[0;32m~/eva/test_evadb/lib/python3.10/site-packages/transformers/processing_utils.py:228\u001b[0m, in \u001b[0;36mProcessorMixin._get_arguments_from_pretrained\u001b[0;34m(cls, pretrained_model_name_or_path, **kwargs)\u001b[0m\n\u001b[1;32m    226\u001b[0m         attribute_class \u001b[39m=\u001b[39m \u001b[39mgetattr\u001b[39m(transformers_module, class_name)\n\u001b[0;32m--> 228\u001b[0m     args\u001b[39m.\u001b[39mappend(attribute_class\u001b[39m.\u001b[39;49mfrom_pretrained(pretrained_model_name_or_path, \u001b[39m*\u001b[39;49m\u001b[39m*\u001b[39;49mkwargs))\n\u001b[1;32m    229\u001b[0m \u001b[39mreturn\u001b[39;00m args\n",
      "File \u001b[0;32m~/eva/test_evadb/lib/python3.10/site-packages/transformers/models/auto/tokenization_auto.py:691\u001b[0m, in \u001b[0;36mAutoTokenizer.from_pretrained\u001b[0;34m(cls, pretrained_model_name_or_path, *inputs, **kwargs)\u001b[0m\n\u001b[1;32m    688\u001b[0m         \u001b[39mraise\u001b[39;00m \u001b[39mValueError\u001b[39;00m(\n\u001b[1;32m    689\u001b[0m             \u001b[39mf\u001b[39m\u001b[39m\"\u001b[39m\u001b[39mTokenizer class \u001b[39m\u001b[39m{\u001b[39;00mtokenizer_class_candidate\u001b[39m}\u001b[39;00m\u001b[39m does not exist or is not currently imported.\u001b[39m\u001b[39m\"\u001b[39m\n\u001b[1;32m    690\u001b[0m         )\n\u001b[0;32m--> 691\u001b[0m     \u001b[39mreturn\u001b[39;00m tokenizer_class\u001b[39m.\u001b[39;49mfrom_pretrained(pretrained_model_name_or_path, \u001b[39m*\u001b[39;49minputs, \u001b[39m*\u001b[39;49m\u001b[39m*\u001b[39;49mkwargs)\n\u001b[1;32m    693\u001b[0m \u001b[39m# Otherwise we have to be creative.\u001b[39;00m\n\u001b[1;32m    694\u001b[0m \u001b[39m# if model is an encoder decoder, the encoder tokenizer class is used by default\u001b[39;00m\n",
      "File \u001b[0;32m~/eva/test_evadb/lib/python3.10/site-packages/transformers/tokenization_utils_base.py:1825\u001b[0m, in \u001b[0;36mPreTrainedTokenizerBase.from_pretrained\u001b[0;34m(cls, pretrained_model_name_or_path, *init_inputs, **kwargs)\u001b[0m\n\u001b[1;32m   1823\u001b[0m         logger\u001b[39m.\u001b[39minfo(\u001b[39mf\u001b[39m\u001b[39m\"\u001b[39m\u001b[39mloading file \u001b[39m\u001b[39m{\u001b[39;00mfile_path\u001b[39m}\u001b[39;00m\u001b[39m from cache at \u001b[39m\u001b[39m{\u001b[39;00mresolved_vocab_files[file_id]\u001b[39m}\u001b[39;00m\u001b[39m\"\u001b[39m)\n\u001b[0;32m-> 1825\u001b[0m \u001b[39mreturn\u001b[39;00m \u001b[39mcls\u001b[39;49m\u001b[39m.\u001b[39;49m_from_pretrained(\n\u001b[1;32m   1826\u001b[0m     resolved_vocab_files,\n\u001b[1;32m   1827\u001b[0m     pretrained_model_name_or_path,\n\u001b[1;32m   1828\u001b[0m     init_configuration,\n\u001b[1;32m   1829\u001b[0m     \u001b[39m*\u001b[39;49minit_inputs,\n\u001b[1;32m   1830\u001b[0m     use_auth_token\u001b[39m=\u001b[39;49muse_auth_token,\n\u001b[1;32m   1831\u001b[0m     cache_dir\u001b[39m=\u001b[39;49mcache_dir,\n\u001b[1;32m   1832\u001b[0m     local_files_only\u001b[39m=\u001b[39;49mlocal_files_only,\n\u001b[1;32m   1833\u001b[0m     _commit_hash\u001b[39m=\u001b[39;49mcommit_hash,\n\u001b[1;32m   1834\u001b[0m     _is_local\u001b[39m=\u001b[39;49mis_local,\n\u001b[1;32m   1835\u001b[0m     \u001b[39m*\u001b[39;49m\u001b[39m*\u001b[39;49mkwargs,\n\u001b[1;32m   1836\u001b[0m )\n",
      "File \u001b[0;32m~/eva/test_evadb/lib/python3.10/site-packages/transformers/tokenization_utils_base.py:1988\u001b[0m, in \u001b[0;36mPreTrainedTokenizerBase._from_pretrained\u001b[0;34m(cls, resolved_vocab_files, pretrained_model_name_or_path, init_configuration, use_auth_token, cache_dir, local_files_only, _commit_hash, _is_local, *init_inputs, **kwargs)\u001b[0m\n\u001b[1;32m   1987\u001b[0m \u001b[39mtry\u001b[39;00m:\n\u001b[0;32m-> 1988\u001b[0m     tokenizer \u001b[39m=\u001b[39m \u001b[39mcls\u001b[39;49m(\u001b[39m*\u001b[39;49minit_inputs, \u001b[39m*\u001b[39;49m\u001b[39m*\u001b[39;49minit_kwargs)\n\u001b[1;32m   1989\u001b[0m \u001b[39mexcept\u001b[39;00m \u001b[39mOSError\u001b[39;00m:\n",
      "File \u001b[0;32m~/eva/test_evadb/lib/python3.10/site-packages/transformers/models/xlm_roberta/tokenization_xlm_roberta_fast.py:155\u001b[0m, in \u001b[0;36mXLMRobertaTokenizerFast.__init__\u001b[0;34m(self, vocab_file, tokenizer_file, bos_token, eos_token, sep_token, cls_token, unk_token, pad_token, mask_token, **kwargs)\u001b[0m\n\u001b[1;32m    153\u001b[0m mask_token \u001b[39m=\u001b[39m AddedToken(mask_token, lstrip\u001b[39m=\u001b[39m\u001b[39mTrue\u001b[39;00m, rstrip\u001b[39m=\u001b[39m\u001b[39mFalse\u001b[39;00m) \u001b[39mif\u001b[39;00m \u001b[39misinstance\u001b[39m(mask_token, \u001b[39mstr\u001b[39m) \u001b[39melse\u001b[39;00m mask_token\n\u001b[0;32m--> 155\u001b[0m \u001b[39msuper\u001b[39;49m()\u001b[39m.\u001b[39;49m\u001b[39m__init__\u001b[39;49m(\n\u001b[1;32m    156\u001b[0m     vocab_file,\n\u001b[1;32m    157\u001b[0m     tokenizer_file\u001b[39m=\u001b[39;49mtokenizer_file,\n\u001b[1;32m    158\u001b[0m     bos_token\u001b[39m=\u001b[39;49mbos_token,\n\u001b[1;32m    159\u001b[0m     eos_token\u001b[39m=\u001b[39;49meos_token,\n\u001b[1;32m    160\u001b[0m     sep_token\u001b[39m=\u001b[39;49msep_token,\n\u001b[1;32m    161\u001b[0m     cls_token\u001b[39m=\u001b[39;49mcls_token,\n\u001b[1;32m    162\u001b[0m     unk_token\u001b[39m=\u001b[39;49munk_token,\n\u001b[1;32m    163\u001b[0m     pad_token\u001b[39m=\u001b[39;49mpad_token,\n\u001b[1;32m    164\u001b[0m     mask_token\u001b[39m=\u001b[39;49mmask_token,\n\u001b[1;32m    165\u001b[0m     \u001b[39m*\u001b[39;49m\u001b[39m*\u001b[39;49mkwargs,\n\u001b[1;32m    166\u001b[0m )\n\u001b[1;32m    168\u001b[0m \u001b[39mself\u001b[39m\u001b[39m.\u001b[39mvocab_file \u001b[39m=\u001b[39m vocab_file\n",
      "File \u001b[0;32m~/eva/test_evadb/lib/python3.10/site-packages/transformers/tokenization_utils_fast.py:118\u001b[0m, in \u001b[0;36mPreTrainedTokenizerFast.__init__\u001b[0;34m(self, *args, **kwargs)\u001b[0m\n\u001b[1;32m    117\u001b[0m     slow_tokenizer \u001b[39m=\u001b[39m \u001b[39mself\u001b[39m\u001b[39m.\u001b[39mslow_tokenizer_class(\u001b[39m*\u001b[39margs, \u001b[39m*\u001b[39m\u001b[39m*\u001b[39mkwargs)\n\u001b[0;32m--> 118\u001b[0m     fast_tokenizer \u001b[39m=\u001b[39m convert_slow_tokenizer(slow_tokenizer)\n\u001b[1;32m    119\u001b[0m \u001b[39melse\u001b[39;00m:\n",
      "File \u001b[0;32m~/eva/test_evadb/lib/python3.10/site-packages/transformers/convert_slow_tokenizer.py:1307\u001b[0m, in \u001b[0;36mconvert_slow_tokenizer\u001b[0;34m(transformer_tokenizer)\u001b[0m\n\u001b[1;32m   1305\u001b[0m converter_class \u001b[39m=\u001b[39m SLOW_TO_FAST_CONVERTERS[tokenizer_class_name]\n\u001b[0;32m-> 1307\u001b[0m \u001b[39mreturn\u001b[39;00m converter_class(transformer_tokenizer)\u001b[39m.\u001b[39mconverted()\n",
      "File \u001b[0;32m~/eva/test_evadb/lib/python3.10/site-packages/transformers/convert_slow_tokenizer.py:445\u001b[0m, in \u001b[0;36mSpmConverter.__init__\u001b[0;34m(self, *args)\u001b[0m\n\u001b[1;32m    443\u001b[0m \u001b[39msuper\u001b[39m()\u001b[39m.\u001b[39m\u001b[39m__init__\u001b[39m(\u001b[39m*\u001b[39margs)\n\u001b[0;32m--> 445\u001b[0m \u001b[39mfrom\u001b[39;00m \u001b[39m.\u001b[39;00m\u001b[39mutils\u001b[39;00m \u001b[39mimport\u001b[39;00m sentencepiece_model_pb2 \u001b[39mas\u001b[39;00m model_pb2\n\u001b[1;32m    447\u001b[0m m \u001b[39m=\u001b[39m model_pb2\u001b[39m.\u001b[39mModelProto()\n",
      "File \u001b[0;32m~/eva/test_evadb/lib/python3.10/site-packages/transformers/utils/sentencepiece_model_pb2.py:28\u001b[0m\n\u001b[1;32m     25\u001b[0m _sym_db \u001b[39m=\u001b[39m _symbol_database\u001b[39m.\u001b[39mDefault()\n\u001b[0;32m---> 28\u001b[0m DESCRIPTOR \u001b[39m=\u001b[39m _descriptor\u001b[39m.\u001b[39;49mFileDescriptor(\n\u001b[1;32m     29\u001b[0m     name\u001b[39m=\u001b[39;49m\u001b[39m\"\u001b[39;49m\u001b[39msentencepiece_model.proto\u001b[39;49m\u001b[39m\"\u001b[39;49m,\n\u001b[1;32m     30\u001b[0m     package\u001b[39m=\u001b[39;49m\u001b[39m\"\u001b[39;49m\u001b[39msentencepiece\u001b[39;49m\u001b[39m\"\u001b[39;49m,\n\u001b[1;32m     31\u001b[0m     syntax\u001b[39m=\u001b[39;49m\u001b[39m\"\u001b[39;49m\u001b[39mproto2\u001b[39;49m\u001b[39m\"\u001b[39;49m,\n\u001b[1;32m     32\u001b[0m     serialized_options\u001b[39m=\u001b[39;49m\u001b[39mb\u001b[39;49m\u001b[39m\"\u001b[39;49m\u001b[39mH\u001b[39;49m\u001b[39m\\003\u001b[39;49;00m\u001b[39m\"\u001b[39;49m,\n\u001b[1;32m     33\u001b[0m     create_key\u001b[39m=\u001b[39;49m_descriptor\u001b[39m.\u001b[39;49m_internal_create_key,\n\u001b[1;32m     34\u001b[0m     serialized_pb\u001b[39m=\u001b[39;49m(\n\u001b[1;32m     35\u001b[0m         \u001b[39mb\u001b[39;49m\u001b[39m'\u001b[39;49m\u001b[39m\\n\u001b[39;49;00m\u001b[39m\\x19\u001b[39;49;00m\u001b[39msentencepiece_model.proto\u001b[39;49m\u001b[39m\\x12\u001b[39;49;00m\u001b[39m\\r\u001b[39;49;00m\u001b[39msentencepiece\u001b[39;49m\u001b[39m\"\u001b[39;49m\u001b[39m\\xa1\u001b[39;49;00m\u001b[39m\\n\u001b[39;49;00m\u001b[39m\\n\u001b[39;49;00m\u001b[39m\\x0b\u001b[39;49;00m\u001b[39mTrainerSpec\u001b[39;49m\u001b[39m\\x12\u001b[39;49;00m\u001b[39m\\r\u001b[39;49;00m\u001b[39m\\n\u001b[39;49;00m\u001b[39m\\x05\u001b[39;49;00m\u001b[39minput\u001b[39;49m\u001b[39m\\x18\u001b[39;49;00m\u001b[39m\\x01\u001b[39;49;00m\u001b[39m'\u001b[39;49m\n\u001b[1;32m     36\u001b[0m         \u001b[39mb\u001b[39;49m\u001b[39m\"\u001b[39;49m\u001b[39m \u001b[39;49m\u001b[39m\\x03\u001b[39;49;00m\u001b[39m(\u001b[39;49m\u001b[39m\\t\u001b[39;49;00m\u001b[39m\\x12\u001b[39;49;00m\u001b[39m\\x14\u001b[39;49;00m\u001b[39m\\n\u001b[39;49;00m\u001b[39m\\x0c\u001b[39;49;00m\u001b[39minput_format\u001b[39;49m\u001b[39m\\x18\u001b[39;49;00m\u001b[39m\\x07\u001b[39;49;00m\u001b[39m \u001b[39;49m\u001b[39m\\x01\u001b[39;49;00m\u001b[39m(\u001b[39;49m\u001b[39m\\t\u001b[39;49;00m\u001b[39m\\x12\u001b[39;49;00m\u001b[39m\\x14\u001b[39;49;00m\u001b[39m\\n\u001b[39;49;00m\u001b[39m\\x0c\u001b[39;49;00m\u001b[39mmodel_prefix\u001b[39;49m\u001b[39m\\x18\u001b[39;49;00m\u001b[39m\\x02\u001b[39;49;00m\u001b[39m\"\u001b[39;49m\n\u001b[1;32m     37\u001b[0m         \u001b[39mb\u001b[39;49m\u001b[39m\"\u001b[39;49m\u001b[39m \u001b[39;49m\u001b[39m\\x01\u001b[39;49;00m\u001b[39m(\u001b[39;49m\u001b[39m\\t\u001b[39;49;00m\u001b[39m\\x12\u001b[39;49;00m\u001b[39m\\x41\u001b[39;49;00m\u001b[39m\\n\u001b[39;49;00m\u001b[39m\\n\u001b[39;49;00m\u001b[39mmodel_type\u001b[39;49m\u001b[39m\\x18\u001b[39;49;00m\u001b[39m\\x03\u001b[39;49;00m\u001b[39m\"\u001b[39;49m\n\u001b[1;32m     38\u001b[0m         \u001b[39mb\u001b[39;49m\u001b[39m\"\u001b[39;49m\u001b[39m \u001b[39;49m\u001b[39m\\x01\u001b[39;49;00m\u001b[39m(\u001b[39;49m\u001b[39m\\x0e\u001b[39;49;00m\u001b[39m\\x32\u001b[39;49;00m\u001b[39m$.sentencepiece.TrainerSpec.ModelType:\u001b[39;49m\u001b[39m\\x07\u001b[39;49;00m\u001b[39mUNIGRAM\u001b[39;49m\u001b[39m\\x12\u001b[39;49;00m\u001b[39m\\x18\u001b[39;49;00m\u001b[39m\\n\u001b[39;49;00m\u001b[39m\\n\u001b[39;49;00m\u001b[39mvocab_size\u001b[39;49m\u001b[39m\\x18\u001b[39;49;00m\u001b[39m\\x04\u001b[39;49;00m\u001b[39m\"\u001b[39;49m\n\u001b[1;32m     39\u001b[0m         \u001b[39mb\u001b[39;49m\u001b[39m\"\u001b[39;49m\u001b[39m \u001b[39;49m\u001b[39m\\x01\u001b[39;49;00m\u001b[39m(\u001b[39;49m\u001b[39m\\x05\u001b[39;49;00m\u001b[39m:\u001b[39;49m\u001b[39m\\x04\u001b[39;49;00m\u001b[39m\\x38\u001b[39;49;00m\u001b[39m\\x30\u001b[39;49;00m\u001b[39m\\x30\u001b[39;49;00m\u001b[39m\\x30\u001b[39;49;00m\u001b[39m\\x12\u001b[39;49;00m\u001b[39m\\x17\u001b[39;49;00m\u001b[39m\\n\u001b[39;49;00m\u001b[39m\\x0f\u001b[39;49;00m\u001b[39m\\x61\u001b[39;49;00m\u001b[39m\\x63\u001b[39;49;00m\u001b[39m\\x63\u001b[39;49;00m\u001b[39m\\x65\u001b[39;49;00m\u001b[39mpt_language\u001b[39;49m\u001b[39m\\x18\u001b[39;49;00m\u001b[39m\\x05\u001b[39;49;00m\u001b[39m \u001b[39;49m\u001b[39m\\x03\u001b[39;49;00m\u001b[39m(\u001b[39;49m\u001b[39m\\t\u001b[39;49;00m\u001b[39m\\x12\u001b[39;49;00m\u001b[39m\"\u001b[39;49m\n\u001b[1;32m     40\u001b[0m         \u001b[39mb\u001b[39;49m\u001b[39m'\u001b[39;49m\u001b[39m \u001b[39;49m\u001b[39m\\n\u001b[39;49;00m\u001b[39m\\x15\u001b[39;49;00m\u001b[39mself_test_sample_size\u001b[39;49m\u001b[39m\\x18\u001b[39;49;00m\u001b[39m\\x06\u001b[39;49;00m\u001b[39m \u001b[39;49m\u001b[39m\\x01\u001b[39;49;00m\u001b[39m(\u001b[39;49m\u001b[39m\\x05\u001b[39;49;00m\u001b[39m:\u001b[39;49m\u001b[39m\\x01\u001b[39;49;00m\u001b[39m\\x30\u001b[39;49;00m\u001b[39m\\x12\u001b[39;49;00m\u001b[39m\"\u001b[39;49m\u001b[39m\\n\u001b[39;49;00m\u001b[39m\\x12\u001b[39;49;00m\u001b[39m\\x63\u001b[39;49;00m\u001b[39mharacter_coverage\u001b[39;49m\u001b[39m\\x18\u001b[39;49;00m\u001b[39m\\n\u001b[39;49;00m\u001b[39m'\u001b[39;49m\n\u001b[1;32m     41\u001b[0m         \u001b[39mb\u001b[39;49m\u001b[39m\"\u001b[39;49m\u001b[39m \u001b[39;49m\u001b[39m\\x01\u001b[39;49;00m\u001b[39m(\u001b[39;49m\u001b[39m\\x02\u001b[39;49;00m\u001b[39m:\u001b[39;49m\u001b[39m\\x06\u001b[39;49;00m\u001b[39m\\x30\u001b[39;49;00m\u001b[39m.9995\u001b[39;49m\u001b[39m\\x12\u001b[39;49;00m\u001b[39m\\x1e\u001b[39;49;00m\u001b[39m\\n\u001b[39;49;00m\u001b[39m\\x13\u001b[39;49;00m\u001b[39minput_sentence_size\u001b[39;49m\u001b[39m\\x18\u001b[39;49;00m\u001b[39m\\x0b\u001b[39;49;00m\u001b[39m\"\u001b[39;49m\n\u001b[1;32m     42\u001b[0m         \u001b[39mb\u001b[39;49m\u001b[39m\"\u001b[39;49m\u001b[39m \u001b[39;49m\u001b[39m\\x01\u001b[39;49;00m\u001b[39m(\u001b[39;49m\u001b[39m\\x04\u001b[39;49;00m\u001b[39m:\u001b[39;49m\u001b[39m\\x01\u001b[39;49;00m\u001b[39m\\x30\u001b[39;49;00m\u001b[39m\\x12\u001b[39;49;00m\u001b[39m$\u001b[39;49m\u001b[39m\\n\u001b[39;49;00m\u001b[39m\\x16\u001b[39;49;00m\u001b[39mshuffle_input_sentence\u001b[39;49m\u001b[39m\\x18\u001b[39;49;00m\u001b[39m\\x13\u001b[39;49;00m\u001b[39m \u001b[39;49m\u001b[39m\\x01\u001b[39;49;00m\u001b[39m(\u001b[39;49m\u001b[39m\\x08\u001b[39;49;00m\u001b[39m:\u001b[39;49m\u001b[39m\\x04\u001b[39;49;00m\u001b[39mtrue\u001b[39;49m\u001b[39m\\x12\u001b[39;49;00m\u001b[39m\"\u001b[39;49m\n\u001b[1;32m     43\u001b[0m         \u001b[39mb\u001b[39;49m\u001b[39m'\u001b[39;49m\u001b[39m \u001b[39;49m\u001b[39m\\n\u001b[39;49;00m\u001b[39m\\x14\u001b[39;49;00m\u001b[39mmining_sentence_size\u001b[39;49m\u001b[39m\\x18\u001b[39;49;00m\u001b[39m\\x0c\u001b[39;49;00m\u001b[39m \u001b[39;49m\u001b[39m\\x01\u001b[39;49;00m\u001b[39m(\u001b[39;49m\u001b[39m\\x05\u001b[39;49;00m\u001b[39m\\x42\u001b[39;49;00m\u001b[39m\\x02\u001b[39;49;00m\u001b[39m\\x18\u001b[39;49;00m\u001b[39m\\x01\u001b[39;49;00m\u001b[39m\\x12\u001b[39;49;00m\u001b[39m\"\u001b[39;49m\u001b[39m\\n\u001b[39;49;00m\u001b[39m\\x16\u001b[39;49;00m\u001b[39mtraining_sentence_size\u001b[39;49m\u001b[39m\\x18\u001b[39;49;00m\u001b[39m\\r\u001b[39;49;00m\u001b[39m'\u001b[39;49m\n\u001b[1;32m     44\u001b[0m         \u001b[39mb\u001b[39;49m\u001b[39m\"\u001b[39;49m\u001b[39m \u001b[39;49m\u001b[39m\\x01\u001b[39;49;00m\u001b[39m(\u001b[39;49m\u001b[39m\\x05\u001b[39;49;00m\u001b[39m\\x42\u001b[39;49;00m\u001b[39m\\x02\u001b[39;49;00m\u001b[39m\\x18\u001b[39;49;00m\u001b[39m\\x01\u001b[39;49;00m\u001b[39m\\x12\u001b[39;49;00m\u001b[39m(\u001b[39;49m\u001b[39m\\n\u001b[39;49;00m\u001b[39m\\x17\u001b[39;49;00m\u001b[39mseed_sentencepiece_size\u001b[39;49m\u001b[39m\\x18\u001b[39;49;00m\u001b[39m\\x0e\u001b[39;49;00m\u001b[39m\"\u001b[39;49m\n\u001b[1;32m     45\u001b[0m         \u001b[39mb\u001b[39;49m\u001b[39m\"\u001b[39;49m\u001b[39m \u001b[39;49m\u001b[39m\\x01\u001b[39;49;00m\u001b[39m(\u001b[39;49m\u001b[39m\\x05\u001b[39;49;00m\u001b[39m:\u001b[39;49m\u001b[39m\\x07\u001b[39;49;00m\u001b[39m\\x31\u001b[39;49;00m\u001b[39m\\x30\u001b[39;49;00m\u001b[39m\\x30\u001b[39;49;00m\u001b[39m\\x30\u001b[39;49;00m\u001b[39m\\x30\u001b[39;49;00m\u001b[39m\\x30\u001b[39;49;00m\u001b[39m\\x30\u001b[39;49;00m\u001b[39m\\x12\u001b[39;49;00m\u001b[39m\\x1e\u001b[39;49;00m\u001b[39m\\n\u001b[39;49;00m\u001b[39m\\x10\u001b[39;49;00m\u001b[39mshrinking_factor\u001b[39;49m\u001b[39m\\x18\u001b[39;49;00m\u001b[39m\\x0f\u001b[39;49;00m\u001b[39m\"\u001b[39;49m\n\u001b[1;32m     46\u001b[0m         \u001b[39mb\u001b[39;49m\u001b[39m\"\u001b[39;49m\u001b[39m \u001b[39;49m\u001b[39m\\x01\u001b[39;49;00m\u001b[39m(\u001b[39;49m\u001b[39m\\x02\u001b[39;49;00m\u001b[39m:\u001b[39;49m\u001b[39m\\x04\u001b[39;49;00m\u001b[39m\\x30\u001b[39;49;00m\u001b[39m.75\u001b[39;49m\u001b[39m\\x12\u001b[39;49;00m\u001b[39m!\u001b[39;49m\u001b[39m\\n\u001b[39;49;00m\u001b[39m\\x13\u001b[39;49;00m\u001b[39mmax_sentence_length\u001b[39;49m\u001b[39m\\x18\u001b[39;49;00m\u001b[39m\\x12\u001b[39;49;00m\u001b[39m\"\u001b[39;49m\n\u001b[1;32m     47\u001b[0m         \u001b[39mb\u001b[39;49m\u001b[39m\"\u001b[39;49m\u001b[39m \u001b[39;49m\u001b[39m\\x01\u001b[39;49;00m\u001b[39m(\u001b[39;49m\u001b[39m\\x05\u001b[39;49;00m\u001b[39m:\u001b[39;49m\u001b[39m\\x04\u001b[39;49;00m\u001b[39m\\x34\u001b[39;49;00m\u001b[39m\\x31\u001b[39;49;00m\u001b[39m\\x39\u001b[39;49;00m\u001b[39m\\x32\u001b[39;49;00m\u001b[39m\\x12\u001b[39;49;00m\u001b[39m\\x17\u001b[39;49;00m\u001b[39m\\n\u001b[39;49;00m\u001b[39m\\x0b\u001b[39;49;00m\u001b[39mnum_threads\u001b[39;49m\u001b[39m\\x18\u001b[39;49;00m\u001b[39m\\x10\u001b[39;49;00m\u001b[39m\"\u001b[39;49m\n\u001b[1;32m     48\u001b[0m         \u001b[39mb\u001b[39;49m\u001b[39m\"\u001b[39;49m\u001b[39m \u001b[39;49m\u001b[39m\\x01\u001b[39;49;00m\u001b[39m(\u001b[39;49m\u001b[39m\\x05\u001b[39;49;00m\u001b[39m:\u001b[39;49m\u001b[39m\\x02\u001b[39;49;00m\u001b[39m\\x31\u001b[39;49;00m\u001b[39m\\x36\u001b[39;49;00m\u001b[39m\\x12\u001b[39;49;00m\u001b[39m\\x1d\u001b[39;49;00m\u001b[39m\\n\u001b[39;49;00m\u001b[39m\\x12\u001b[39;49;00m\u001b[39mnum_sub_iterations\u001b[39;49m\u001b[39m\\x18\u001b[39;49;00m\u001b[39m\\x11\u001b[39;49;00m\u001b[39m\"\u001b[39;49m\n\u001b[1;32m     49\u001b[0m         \u001b[39mb\u001b[39;49m\u001b[39m\"\u001b[39;49m\u001b[39m \u001b[39;49m\u001b[39m\\x01\u001b[39;49;00m\u001b[39m(\u001b[39;49m\u001b[39m\\x05\u001b[39;49;00m\u001b[39m:\u001b[39;49m\u001b[39m\\x01\u001b[39;49;00m\u001b[39m\\x32\u001b[39;49;00m\u001b[39m\\x12\u001b[39;49;00m\u001b[39m$\u001b[39;49m\u001b[39m\\n\u001b[39;49;00m\u001b[39m\\x18\u001b[39;49;00m\u001b[39mmax_sentencepiece_length\u001b[39;49m\u001b[39m\\x18\u001b[39;49;00m\u001b[39m\\x14\u001b[39;49;00m\u001b[39m\"\u001b[39;49m\n\u001b[1;32m     50\u001b[0m         \u001b[39mb\u001b[39;49m\u001b[39m\"\u001b[39;49m\u001b[39m \u001b[39;49m\u001b[39m\\x01\u001b[39;49;00m\u001b[39m(\u001b[39;49m\u001b[39m\\x05\u001b[39;49;00m\u001b[39m:\u001b[39;49m\u001b[39m\\x02\u001b[39;49;00m\u001b[39m\\x31\u001b[39;49;00m\u001b[39m\\x36\u001b[39;49;00m\u001b[39m\\x12\u001b[39;49;00m\u001b[39m%\u001b[39;49m\u001b[39m\\n\u001b[39;49;00m\u001b[39m\\x17\u001b[39;49;00m\u001b[39msplit_by_unicode_script\u001b[39;49m\u001b[39m\\x18\u001b[39;49;00m\u001b[39m\\x15\u001b[39;49;00m\u001b[39m\"\u001b[39;49m\n\u001b[1;32m     51\u001b[0m         \u001b[39mb\u001b[39;49m\u001b[39m\"\u001b[39;49m\u001b[39m \u001b[39;49m\u001b[39m\\x01\u001b[39;49;00m\u001b[39m(\u001b[39;49m\u001b[39m\\x08\u001b[39;49;00m\u001b[39m:\u001b[39;49m\u001b[39m\\x04\u001b[39;49;00m\u001b[39mtrue\u001b[39;49m\u001b[39m\\x12\u001b[39;49;00m\u001b[39m\\x1d\u001b[39;49;00m\u001b[39m\\n\u001b[39;49;00m\u001b[39m\\x0f\u001b[39;49;00m\u001b[39msplit_by_number\u001b[39;49m\u001b[39m\\x18\u001b[39;49;00m\u001b[39m\\x17\u001b[39;49;00m\u001b[39m\"\u001b[39;49m\n\u001b[1;32m     52\u001b[0m         \u001b[39mb\u001b[39;49m\u001b[39m\"\u001b[39;49m\u001b[39m \u001b[39;49m\u001b[39m\\x01\u001b[39;49;00m\u001b[39m(\u001b[39;49m\u001b[39m\\x08\u001b[39;49;00m\u001b[39m:\u001b[39;49m\u001b[39m\\x04\u001b[39;49;00m\u001b[39mtrue\u001b[39;49m\u001b[39m\\x12\u001b[39;49;00m\u001b[39m!\u001b[39;49m\u001b[39m\\n\u001b[39;49;00m\u001b[39m\\x13\u001b[39;49;00m\u001b[39msplit_by_whitespace\u001b[39;49m\u001b[39m\\x18\u001b[39;49;00m\u001b[39m\\x16\u001b[39;49;00m\u001b[39m\"\u001b[39;49m\n\u001b[1;32m     53\u001b[0m         \u001b[39mb\u001b[39;49m\u001b[39m\"\u001b[39;49m\u001b[39m \u001b[39;49m\u001b[39m\\x01\u001b[39;49;00m\u001b[39m(\u001b[39;49m\u001b[39m\\x08\u001b[39;49;00m\u001b[39m:\u001b[39;49m\u001b[39m\\x04\u001b[39;49;00m\u001b[39mtrue\u001b[39;49m\u001b[39m\\x12\u001b[39;49;00m\u001b[39m)\u001b[39;49m\u001b[39m\\n\u001b[39;49;00m\u001b[39m\\x1a\u001b[39;49;00m\u001b[39mtreat_whitespace_as_suffix\u001b[39;49m\u001b[39m\\x18\u001b[39;49;00m\u001b[39m\\x18\u001b[39;49;00m\u001b[39m\"\u001b[39;49m\n\u001b[1;32m     54\u001b[0m         \u001b[39mb\u001b[39;49m\u001b[39m\"\u001b[39;49m\u001b[39m \u001b[39;49m\u001b[39m\\x01\u001b[39;49;00m\u001b[39m(\u001b[39;49m\u001b[39m\\x08\u001b[39;49;00m\u001b[39m:\u001b[39;49m\u001b[39m\\x05\u001b[39;49;00m\u001b[39m\\x66\u001b[39;49;00m\u001b[39m\\x61\u001b[39;49;00m\u001b[39mlse\u001b[39;49m\u001b[39m\\x12\u001b[39;49;00m\u001b[39m\\x1b\u001b[39;49;00m\u001b[39m\\n\u001b[39;49;00m\u001b[39m\\x0c\u001b[39;49;00m\u001b[39msplit_digits\u001b[39;49m\u001b[39m\\x18\u001b[39;49;00m\u001b[39m\\x19\u001b[39;49;00m\u001b[39m\"\u001b[39;49m\n\u001b[1;32m     55\u001b[0m         \u001b[39mb\u001b[39;49m\u001b[39m\"\u001b[39;49m\u001b[39m \u001b[39;49m\u001b[39m\\x01\u001b[39;49;00m\u001b[39m(\u001b[39;49m\u001b[39m\\x08\u001b[39;49;00m\u001b[39m:\u001b[39;49m\u001b[39m\\x05\u001b[39;49;00m\u001b[39m\\x66\u001b[39;49;00m\u001b[39m\\x61\u001b[39;49;00m\u001b[39mlse\u001b[39;49m\u001b[39m\\x12\u001b[39;49;00m\u001b[39m\\x17\u001b[39;49;00m\u001b[39m\\n\u001b[39;49;00m\u001b[39m\\x0f\u001b[39;49;00m\u001b[39m\\x63\u001b[39;49;00m\u001b[39montrol_symbols\u001b[39;49m\u001b[39m\\x18\u001b[39;49;00m\u001b[39m\\x1e\u001b[39;49;00m\u001b[39m\"\u001b[39;49m\n\u001b[1;32m     56\u001b[0m         \u001b[39mb\u001b[39;49m\u001b[39m\"\u001b[39;49m\u001b[39m \u001b[39;49m\u001b[39m\\x03\u001b[39;49;00m\u001b[39m(\u001b[39;49m\u001b[39m\\t\u001b[39;49;00m\u001b[39m\\x12\u001b[39;49;00m\u001b[39m\\x1c\u001b[39;49;00m\u001b[39m\\n\u001b[39;49;00m\u001b[39m\\x14\u001b[39;49;00m\u001b[39muser_defined_symbols\u001b[39;49m\u001b[39m\\x18\u001b[39;49;00m\u001b[39m\\x1f\u001b[39;49;00m\u001b[39m \u001b[39;49m\u001b[39m\\x03\u001b[39;49;00m\u001b[39m(\u001b[39;49m\u001b[39m\\t\u001b[39;49;00m\u001b[39m\\x12\u001b[39;49;00m\u001b[39m\\x16\u001b[39;49;00m\u001b[39m\\n\u001b[39;49;00m\u001b[39m\\x0e\u001b[39;49;00m\u001b[39mrequired_chars\u001b[39;49m\u001b[39m\\x18\u001b[39;49;00m\u001b[39m$\u001b[39;49m\u001b[39m\"\u001b[39;49m\n\u001b[1;32m     57\u001b[0m         \u001b[39mb\u001b[39;49m\u001b[39m\"\u001b[39;49m\u001b[39m \u001b[39;49m\u001b[39m\\x01\u001b[39;49;00m\u001b[39m(\u001b[39;49m\u001b[39m\\t\u001b[39;49;00m\u001b[39m\\x12\u001b[39;49;00m\u001b[39m\\x1c\u001b[39;49;00m\u001b[39m\\n\u001b[39;49;00m\u001b[39m\\r\u001b[39;49;00m\u001b[39mbyte_fallback\u001b[39;49m\u001b[39m\\x18\u001b[39;49;00m\u001b[39m# \u001b[39;49m\u001b[39m\\x01\u001b[39;49;00m\u001b[39m(\u001b[39;49m\u001b[39m\\x08\u001b[39;49;00m\u001b[39m:\u001b[39;49m\u001b[39m\\x05\u001b[39;49;00m\u001b[39m\\x66\u001b[39;49;00m\u001b[39m\\x61\u001b[39;49;00m\u001b[39mlse\u001b[39;49m\u001b[39m\\x12\u001b[39;49;00m\u001b[39m+\u001b[39;49m\u001b[39m\\n\u001b[39;49;00m\u001b[39m\\x1d\u001b[39;49;00m\u001b[39mvocabulary_output_piece_score\u001b[39;49m\u001b[39m\\x18\u001b[39;49;00m\u001b[39m\"\u001b[39;49m\n\u001b[1;32m     58\u001b[0m         \u001b[39mb\u001b[39;49m\u001b[39m'\u001b[39;49m\u001b[39m  \u001b[39;49m\u001b[39m\\x01\u001b[39;49;00m\u001b[39m(\u001b[39;49m\u001b[39m\\x08\u001b[39;49;00m\u001b[39m:\u001b[39;49m\u001b[39m\\x04\u001b[39;49;00m\u001b[39mtrue\u001b[39;49m\u001b[39m\\x12\u001b[39;49;00m\u001b[39m\\x1e\u001b[39;49;00m\u001b[39m\\n\u001b[39;49;00m\u001b[39m\\x10\u001b[39;49;00m\u001b[39mhard_vocab_limit\u001b[39;49m\u001b[39m\\x18\u001b[39;49;00m\u001b[39m! \u001b[39;49m\u001b[39m\\x01\u001b[39;49;00m\u001b[39m(\u001b[39;49m\u001b[39m\\x08\u001b[39;49;00m\u001b[39m:\u001b[39;49m\u001b[39m\\x04\u001b[39;49;00m\u001b[39mtrue\u001b[39;49m\u001b[39m\\x12\u001b[39;49;00m\u001b[39m\\x1c\u001b[39;49;00m\u001b[39m\\n\u001b[39;49;00m\u001b[39m\\r\u001b[39;49;00m\u001b[39muse_all_vocab\u001b[39;49m\u001b[39m\\x18\u001b[39;49;00m\u001b[39m\"\u001b[39;49m\u001b[39m'\u001b[39;49m\n\u001b[1;32m     59\u001b[0m         \u001b[39mb\u001b[39;49m\u001b[39m\"\u001b[39;49m\u001b[39m \u001b[39;49m\u001b[39m\\x01\u001b[39;49;00m\u001b[39m(\u001b[39;49m\u001b[39m\\x08\u001b[39;49;00m\u001b[39m:\u001b[39;49m\u001b[39m\\x05\u001b[39;49;00m\u001b[39m\\x66\u001b[39;49;00m\u001b[39m\\x61\u001b[39;49;00m\u001b[39mlse\u001b[39;49m\u001b[39m\\x12\u001b[39;49;00m\u001b[39m\\x11\u001b[39;49;00m\u001b[39m\\n\u001b[39;49;00m\u001b[39m\\x06\u001b[39;49;00m\u001b[39munk_id\u001b[39;49m\u001b[39m\\x18\u001b[39;49;00m\u001b[39m( \u001b[39;49m\u001b[39m\\x01\u001b[39;49;00m\u001b[39m(\u001b[39;49m\u001b[39m\\x05\u001b[39;49;00m\u001b[39m:\u001b[39;49m\u001b[39m\\x01\u001b[39;49;00m\u001b[39m\\x30\u001b[39;49;00m\u001b[39m\\x12\u001b[39;49;00m\u001b[39m\\x11\u001b[39;49;00m\u001b[39m\\n\u001b[39;49;00m\u001b[39m\\x06\u001b[39;49;00m\u001b[39m\\x62\u001b[39;49;00m\u001b[39mos_id\u001b[39;49m\u001b[39m\\x18\u001b[39;49;00m\u001b[39m)\u001b[39;49m\u001b[39m\"\u001b[39;49m\n\u001b[1;32m     60\u001b[0m         \u001b[39mb\u001b[39;49m\u001b[39m\"\u001b[39;49m\u001b[39m \u001b[39;49m\u001b[39m\\x01\u001b[39;49;00m\u001b[39m(\u001b[39;49m\u001b[39m\\x05\u001b[39;49;00m\u001b[39m:\u001b[39;49m\u001b[39m\\x01\u001b[39;49;00m\u001b[39m\\x31\u001b[39;49;00m\u001b[39m\\x12\u001b[39;49;00m\u001b[39m\\x11\u001b[39;49;00m\u001b[39m\\n\u001b[39;49;00m\u001b[39m\\x06\u001b[39;49;00m\u001b[39m\\x65\u001b[39;49;00m\u001b[39mos_id\u001b[39;49m\u001b[39m\\x18\u001b[39;49;00m\u001b[39m* \u001b[39;49m\u001b[39m\\x01\u001b[39;49;00m\u001b[39m(\u001b[39;49m\u001b[39m\\x05\u001b[39;49;00m\u001b[39m:\u001b[39;49m\u001b[39m\\x01\u001b[39;49;00m\u001b[39m\\x32\u001b[39;49;00m\u001b[39m\\x12\u001b[39;49;00m\u001b[39m\\x12\u001b[39;49;00m\u001b[39m\\n\u001b[39;49;00m\u001b[39m\\x06\u001b[39;49;00m\u001b[39mpad_id\u001b[39;49m\u001b[39m\\x18\u001b[39;49;00m\u001b[39m+\u001b[39;49m\u001b[39m\"\u001b[39;49m\n\u001b[1;32m     61\u001b[0m         \u001b[39mb\u001b[39;49m\u001b[39m\"\u001b[39;49m\u001b[39m \u001b[39;49m\u001b[39m\\x01\u001b[39;49;00m\u001b[39m(\u001b[39;49m\u001b[39m\\x05\u001b[39;49;00m\u001b[39m:\u001b[39;49m\u001b[39m\\x02\u001b[39;49;00m\u001b[39m-1\u001b[39;49m\u001b[39m\\x12\u001b[39;49;00m\u001b[39m\\x18\u001b[39;49;00m\u001b[39m\\n\u001b[39;49;00m\u001b[39m\\t\u001b[39;49;00m\u001b[39munk_piece\u001b[39;49m\u001b[39m\\x18\u001b[39;49;00m\u001b[39m- \u001b[39;49m\u001b[39m\\x01\u001b[39;49;00m\u001b[39m(\u001b[39;49m\u001b[39m\\t\u001b[39;49;00m\u001b[39m:\u001b[39;49m\u001b[39m\\x05\u001b[39;49;00m\u001b[39m<unk>\u001b[39;49m\u001b[39m\\x12\u001b[39;49;00m\u001b[39m\\x16\u001b[39;49;00m\u001b[39m\\n\u001b[39;49;00m\u001b[39m\\t\u001b[39;49;00m\u001b[39mbos_piece\u001b[39;49m\u001b[39m\\x18\u001b[39;49;00m\u001b[39m.\u001b[39;49m\u001b[39m\"\u001b[39;49m\n\u001b[1;32m     62\u001b[0m         \u001b[39mb\u001b[39;49m\u001b[39m\"\u001b[39;49m\u001b[39m \u001b[39;49m\u001b[39m\\x01\u001b[39;49;00m\u001b[39m(\u001b[39;49m\u001b[39m\\t\u001b[39;49;00m\u001b[39m:\u001b[39;49m\u001b[39m\\x03\u001b[39;49;00m\u001b[39m<s>\u001b[39;49m\u001b[39m\\x12\u001b[39;49;00m\u001b[39m\\x17\u001b[39;49;00m\u001b[39m\\n\u001b[39;49;00m\u001b[39m\\t\u001b[39;49;00m\u001b[39meos_piece\u001b[39;49m\u001b[39m\\x18\u001b[39;49;00m\u001b[39m/ \u001b[39;49m\u001b[39m\\x01\u001b[39;49;00m\u001b[39m(\u001b[39;49m\u001b[39m\\t\u001b[39;49;00m\u001b[39m:\u001b[39;49m\u001b[39m\\x04\u001b[39;49;00m\u001b[39m</s>\u001b[39;49m\u001b[39m\\x12\u001b[39;49;00m\u001b[39m\\x18\u001b[39;49;00m\u001b[39m\\n\u001b[39;49;00m\u001b[39m\\t\u001b[39;49;00m\u001b[39mpad_piece\u001b[39;49m\u001b[39m\\x18\u001b[39;49;00m\u001b[39m\\x30\u001b[39;49;00m\u001b[39m\"\u001b[39;49m\n\u001b[1;32m     63\u001b[0m         \u001b[39mb\u001b[39;49m\u001b[39m\"\u001b[39;49m\u001b[39m \u001b[39;49m\u001b[39m\\x01\u001b[39;49;00m\u001b[39m(\u001b[39;49m\u001b[39m\\t\u001b[39;49;00m\u001b[39m:\u001b[39;49m\u001b[39m\\x05\u001b[39;49;00m\u001b[39m<pad>\u001b[39;49m\u001b[39m\\x12\u001b[39;49;00m\u001b[39m\\x1a\u001b[39;49;00m\u001b[39m\\n\u001b[39;49;00m\u001b[39m\\x0b\u001b[39;49;00m\u001b[39munk_surface\u001b[39;49m\u001b[39m\\x18\u001b[39;49;00m\u001b[39m, \u001b[39;49m\u001b[39m\\x01\u001b[39;49;00m\u001b[39m(\u001b[39;49m\u001b[39m\\t\u001b[39;49;00m\u001b[39m:\u001b[39;49m\u001b[39m\\x05\u001b[39;49;00m\u001b[39m \u001b[39;49m\u001b[39m\\xe2\u001b[39;49;00m\u001b[39m\\x81\u001b[39;49;00m\u001b[39m\\x87\u001b[39;49;00m\u001b[39m\"\u001b[39;49m\n\u001b[1;32m     64\u001b[0m         \u001b[39mb\u001b[39;49m\u001b[39m\"\u001b[39;49m\u001b[39m \u001b[39;49m\u001b[39m\\x12\u001b[39;49;00m\u001b[39m+\u001b[39;49m\u001b[39m\\n\u001b[39;49;00m\u001b[39m\\x1c\u001b[39;49;00m\u001b[39mtrain_extremely_large_corpus\u001b[39;49m\u001b[39m\\x18\u001b[39;49;00m\u001b[39m\\x31\u001b[39;49;00m\u001b[39m\"\u001b[39;49m\n\u001b[1;32m     65\u001b[0m         \u001b[39mb\u001b[39;49m\u001b[39m'\u001b[39;49m\u001b[39m \u001b[39;49m\u001b[39m\\x01\u001b[39;49;00m\u001b[39m(\u001b[39;49m\u001b[39m\\x08\u001b[39;49;00m\u001b[39m:\u001b[39;49m\u001b[39m\\x05\u001b[39;49;00m\u001b[39m\\x66\u001b[39;49;00m\u001b[39m\\x61\u001b[39;49;00m\u001b[39mlse\u001b[39;49m\u001b[39m\"\u001b[39;49m\u001b[39m5\u001b[39;49m\u001b[39m\\n\u001b[39;49;00m\u001b[39m\\t\u001b[39;49;00m\u001b[39mModelType\u001b[39;49m\u001b[39m\\x12\u001b[39;49;00m\u001b[39m\\x0b\u001b[39;49;00m\u001b[39m\\n\u001b[39;49;00m\u001b[39m\\x07\u001b[39;49;00m\u001b[39mUNIGRAM\u001b[39;49m\u001b[39m\\x10\u001b[39;49;00m\u001b[39m\\x01\u001b[39;49;00m\u001b[39m\\x12\u001b[39;49;00m\u001b[39m\\x07\u001b[39;49;00m\u001b[39m\\n\u001b[39;49;00m\u001b[39m\\x03\u001b[39;49;00m\u001b[39m\\x42\u001b[39;49;00m\u001b[39mPE\u001b[39;49m\u001b[39m\\x10\u001b[39;49;00m\u001b[39m\\x02\u001b[39;49;00m\u001b[39m\\x12\u001b[39;49;00m\u001b[39m\\x08\u001b[39;49;00m\u001b[39m\\n\u001b[39;49;00m\u001b[39m\\x04\u001b[39;49;00m\u001b[39mWORD\u001b[39;49m\u001b[39m\\x10\u001b[39;49;00m\u001b[39m\\x03\u001b[39;49;00m\u001b[39m\\x12\u001b[39;49;00m\u001b[39m\\x08\u001b[39;49;00m\u001b[39m\\n\u001b[39;49;00m\u001b[39m\\x04\u001b[39;49;00m\u001b[39m\\x43\u001b[39;49;00m\u001b[39mHAR\u001b[39;49m\u001b[39m\\x10\u001b[39;49;00m\u001b[39m\\x04\u001b[39;49;00m\u001b[39m*\u001b[39;49m\u001b[39m\\t\u001b[39;49;00m\u001b[39m\\x08\u001b[39;49;00m\u001b[39m\\xc8\u001b[39;49;00m\u001b[39m\\x01\u001b[39;49;00m\u001b[39m\\x10\u001b[39;49;00m\u001b[39m\\x80\u001b[39;49;00m\u001b[39m\\x80\u001b[39;49;00m\u001b[39m\\x80\u001b[39;49;00m\u001b[39m\\x80\u001b[39;49;00m\u001b[39m\\x02\u001b[39;49;00m\u001b[39m\"\u001b[39;49m\u001b[39m\\xd1\u001b[39;49;00m\u001b[39m\\x01\u001b[39;49;00m\u001b[39m\\n\u001b[39;49;00m\u001b[39m\\x0e\u001b[39;49;00m\u001b[39mNormalizerSpec\u001b[39;49m\u001b[39m\\x12\u001b[39;49;00m\u001b[39m\\x0c\u001b[39;49;00m\u001b[39m\\n\u001b[39;49;00m\u001b[39m\\x04\u001b[39;49;00m\u001b[39mname\u001b[39;49m\u001b[39m\\x18\u001b[39;49;00m\u001b[39m\\x01\u001b[39;49;00m\u001b[39m'\u001b[39;49m\n\u001b[1;32m     66\u001b[0m         \u001b[39mb\u001b[39;49m\u001b[39m\"\u001b[39;49m\u001b[39m \u001b[39;49m\u001b[39m\\x01\u001b[39;49;00m\u001b[39m(\u001b[39;49m\u001b[39m\\t\u001b[39;49;00m\u001b[39m\\x12\u001b[39;49;00m\u001b[39m\\x1c\u001b[39;49;00m\u001b[39m\\n\u001b[39;49;00m\u001b[39m\\x14\u001b[39;49;00m\u001b[39mprecompiled_charsmap\u001b[39;49m\u001b[39m\\x18\u001b[39;49;00m\u001b[39m\\x02\u001b[39;49;00m\u001b[39m \u001b[39;49m\u001b[39m\\x01\u001b[39;49;00m\u001b[39m(\u001b[39;49m\u001b[39m\\x0c\u001b[39;49;00m\u001b[39m\\x12\u001b[39;49;00m\u001b[39m\\x1e\u001b[39;49;00m\u001b[39m\\n\u001b[39;49;00m\u001b[39m\\x10\u001b[39;49;00m\u001b[39m\\x61\u001b[39;49;00m\u001b[39m\\x64\u001b[39;49;00m\u001b[39m\\x64\u001b[39;49;00m\u001b[39m_dummy_prefix\u001b[39;49m\u001b[39m\\x18\u001b[39;49;00m\u001b[39m\\x03\u001b[39;49;00m\u001b[39m\"\u001b[39;49m\n\u001b[1;32m     67\u001b[0m         \u001b[39mb\u001b[39;49m\u001b[39m\"\u001b[39;49m\u001b[39m \u001b[39;49m\u001b[39m\\x01\u001b[39;49;00m\u001b[39m(\u001b[39;49m\u001b[39m\\x08\u001b[39;49;00m\u001b[39m:\u001b[39;49m\u001b[39m\\x04\u001b[39;49;00m\u001b[39mtrue\u001b[39;49m\u001b[39m\\x12\u001b[39;49;00m\u001b[39m&\u001b[39;49m\u001b[39m\\n\u001b[39;49;00m\u001b[39m\\x18\u001b[39;49;00m\u001b[39mremove_extra_whitespaces\u001b[39;49m\u001b[39m\\x18\u001b[39;49;00m\u001b[39m\\x04\u001b[39;49;00m\u001b[39m \u001b[39;49m\u001b[39m\\x01\u001b[39;49;00m\u001b[39m(\u001b[39;49m\u001b[39m\\x08\u001b[39;49;00m\u001b[39m:\u001b[39;49m\u001b[39m\\x04\u001b[39;49;00m\u001b[39mtrue\u001b[39;49m\u001b[39m\\x12\u001b[39;49;00m\u001b[39m\"\u001b[39;49m\n\u001b[1;32m     68\u001b[0m         \u001b[39mb\u001b[39;49m\u001b[39m\"\u001b[39;49m\u001b[39m \u001b[39;49m\u001b[39m\\n\u001b[39;49;00m\u001b[39m\\x12\u001b[39;49;00m\u001b[39m\\x65\u001b[39;49;00m\u001b[39mscape_whitespaces\u001b[39;49m\u001b[39m\\x18\u001b[39;49;00m\u001b[39m\\x05\u001b[39;49;00m\u001b[39m \u001b[39;49m\u001b[39m\\x01\u001b[39;49;00m\u001b[39m(\u001b[39;49m\u001b[39m\\x08\u001b[39;49;00m\u001b[39m:\u001b[39;49m\u001b[39m\\x04\u001b[39;49;00m\u001b[39mtrue\u001b[39;49m\u001b[39m\\x12\u001b[39;49;00m\u001b[39m\\x1e\u001b[39;49;00m\u001b[39m\\n\u001b[39;49;00m\u001b[39m\\x16\u001b[39;49;00m\u001b[39mnormalization_rule_tsv\u001b[39;49m\u001b[39m\\x18\u001b[39;49;00m\u001b[39m\\x06\u001b[39;49;00m\u001b[39m\"\u001b[39;49m\n\u001b[1;32m     69\u001b[0m         \u001b[39mb\u001b[39;49m\u001b[39m'\u001b[39;49m\u001b[39m \u001b[39;49m\u001b[39m\\x01\u001b[39;49;00m\u001b[39m(\u001b[39;49m\u001b[39m\\t\u001b[39;49;00m\u001b[39m*\u001b[39;49m\u001b[39m\\t\u001b[39;49;00m\u001b[39m\\x08\u001b[39;49;00m\u001b[39m\\xc8\u001b[39;49;00m\u001b[39m\\x01\u001b[39;49;00m\u001b[39m\\x10\u001b[39;49;00m\u001b[39m\\x80\u001b[39;49;00m\u001b[39m\\x80\u001b[39;49;00m\u001b[39m\\x80\u001b[39;49;00m\u001b[39m\\x80\u001b[39;49;00m\u001b[39m\\x02\u001b[39;49;00m\u001b[39m\"\u001b[39;49m\u001b[39my\u001b[39;49m\u001b[39m\\n\u001b[39;49;00m\u001b[39m\\x0c\u001b[39;49;00m\u001b[39mSelfTestData\u001b[39;49m\u001b[39m\\x12\u001b[39;49;00m\u001b[39m\\x33\u001b[39;49;00m\u001b[39m\\n\u001b[39;49;00m\u001b[39m\\x07\u001b[39;49;00m\u001b[39msamples\u001b[39;49m\u001b[39m\\x18\u001b[39;49;00m\u001b[39m\\x01\u001b[39;49;00m\u001b[39m'\u001b[39;49m\n\u001b[1;32m     70\u001b[0m         \u001b[39mb\u001b[39;49m\u001b[39m'\u001b[39;49m\u001b[39m \u001b[39;49m\u001b[39m\\x03\u001b[39;49;00m\u001b[39m(\u001b[39;49m\u001b[39m\\x0b\u001b[39;49;00m\u001b[39m\\x32\u001b[39;49;00m\u001b[39m\"\u001b[39;49m\u001b[39m.sentencepiece.SelfTestData.Sample\u001b[39;49m\u001b[39m\\x1a\u001b[39;49;00m\u001b[39m)\u001b[39;49m\u001b[39m\\n\u001b[39;49;00m\u001b[39m\\x06\u001b[39;49;00m\u001b[39mSample\u001b[39;49m\u001b[39m\\x12\u001b[39;49;00m\u001b[39m\\r\u001b[39;49;00m\u001b[39m\\n\u001b[39;49;00m\u001b[39m\\x05\u001b[39;49;00m\u001b[39minput\u001b[39;49m\u001b[39m\\x18\u001b[39;49;00m\u001b[39m\\x01\u001b[39;49;00m\u001b[39m'\u001b[39;49m\n\u001b[1;32m     71\u001b[0m         \u001b[39mb\u001b[39;49m\u001b[39m\"\u001b[39;49m\u001b[39m \u001b[39;49m\u001b[39m\\x01\u001b[39;49;00m\u001b[39m(\u001b[39;49m\u001b[39m\\t\u001b[39;49;00m\u001b[39m\\x12\u001b[39;49;00m\u001b[39m\\x10\u001b[39;49;00m\u001b[39m\\n\u001b[39;49;00m\u001b[39m\\x08\u001b[39;49;00m\u001b[39m\\x65\u001b[39;49;00m\u001b[39mxpected\u001b[39;49m\u001b[39m\\x18\u001b[39;49;00m\u001b[39m\\x02\u001b[39;49;00m\u001b[39m\"\u001b[39;49m\n\u001b[1;32m     72\u001b[0m         \u001b[39mb\u001b[39;49m\u001b[39m'\u001b[39;49m\u001b[39m \u001b[39;49m\u001b[39m\\x01\u001b[39;49;00m\u001b[39m(\u001b[39;49m\u001b[39m\\t\u001b[39;49;00m\u001b[39m*\u001b[39;49m\u001b[39m\\t\u001b[39;49;00m\u001b[39m\\x08\u001b[39;49;00m\u001b[39m\\xc8\u001b[39;49;00m\u001b[39m\\x01\u001b[39;49;00m\u001b[39m\\x10\u001b[39;49;00m\u001b[39m\\x80\u001b[39;49;00m\u001b[39m\\x80\u001b[39;49;00m\u001b[39m\\x80\u001b[39;49;00m\u001b[39m\\x80\u001b[39;49;00m\u001b[39m\\x02\u001b[39;49;00m\u001b[39m\"\u001b[39;49m\u001b[39m\\xfe\u001b[39;49;00m\u001b[39m\\x03\u001b[39;49;00m\u001b[39m\\n\u001b[39;49;00m\u001b[39m\\n\u001b[39;49;00m\u001b[39mModelProto\u001b[39;49m\u001b[39m\\x12\u001b[39;49;00m\u001b[39m\\x37\u001b[39;49;00m\u001b[39m\\n\u001b[39;49;00m\u001b[39m\\x06\u001b[39;49;00m\u001b[39mpieces\u001b[39;49m\u001b[39m\\x18\u001b[39;49;00m\u001b[39m\\x01\u001b[39;49;00m\u001b[39m'\u001b[39;49m\n\u001b[1;32m     73\u001b[0m         \u001b[39mb\u001b[39;49m\u001b[39m\"\u001b[39;49m\u001b[39m \u001b[39;49m\u001b[39m\\x03\u001b[39;49;00m\u001b[39m(\u001b[39;49m\u001b[39m\\x0b\u001b[39;49;00m\u001b[39m\\x32\u001b[39;49;00m\u001b[39m'\u001b[39;49m\u001b[39m.sentencepiece.ModelProto.SentencePiece\u001b[39;49m\u001b[39m\\x12\u001b[39;49;00m\u001b[39m\\x30\u001b[39;49;00m\u001b[39m\\n\u001b[39;49;00m\u001b[39m\\x0c\u001b[39;49;00m\u001b[39mtrainer_spec\u001b[39;49m\u001b[39m\\x18\u001b[39;49;00m\u001b[39m\\x02\u001b[39;49;00m\u001b[39m\"\u001b[39;49m\n\u001b[1;32m     74\u001b[0m         \u001b[39mb\u001b[39;49m\u001b[39m\"\u001b[39;49m\u001b[39m \u001b[39;49m\u001b[39m\\x01\u001b[39;49;00m\u001b[39m(\u001b[39;49m\u001b[39m\\x0b\u001b[39;49;00m\u001b[39m\\x32\u001b[39;49;00m\u001b[39m\\x1a\u001b[39;49;00m\u001b[39m.sentencepiece.TrainerSpec\u001b[39;49m\u001b[39m\\x12\u001b[39;49;00m\u001b[39m\\x36\u001b[39;49;00m\u001b[39m\\n\u001b[39;49;00m\u001b[39m\\x0f\u001b[39;49;00m\u001b[39mnormalizer_spec\u001b[39;49m\u001b[39m\\x18\u001b[39;49;00m\u001b[39m\\x03\u001b[39;49;00m\u001b[39m\"\u001b[39;49m\n\u001b[1;32m     75\u001b[0m         \u001b[39mb\u001b[39;49m\u001b[39m\"\u001b[39;49m\u001b[39m \u001b[39;49m\u001b[39m\\x01\u001b[39;49;00m\u001b[39m(\u001b[39;49m\u001b[39m\\x0b\u001b[39;49;00m\u001b[39m\\x32\u001b[39;49;00m\u001b[39m\\x1d\u001b[39;49;00m\u001b[39m.sentencepiece.NormalizerSpec\u001b[39;49m\u001b[39m\\x12\u001b[39;49;00m\u001b[39m\\x33\u001b[39;49;00m\u001b[39m\\n\u001b[39;49;00m\u001b[39m\\x0e\u001b[39;49;00m\u001b[39mself_test_data\u001b[39;49m\u001b[39m\\x18\u001b[39;49;00m\u001b[39m\\x04\u001b[39;49;00m\u001b[39m\"\u001b[39;49m\n\u001b[1;32m     76\u001b[0m         \u001b[39mb\u001b[39;49m\u001b[39m\"\u001b[39;49m\u001b[39m \u001b[39;49m\u001b[39m\\x01\u001b[39;49;00m\u001b[39m(\u001b[39;49m\u001b[39m\\x0b\u001b[39;49;00m\u001b[39m\\x32\u001b[39;49;00m\u001b[39m\\x1b\u001b[39;49;00m\u001b[39m.sentencepiece.SelfTestData\u001b[39;49m\u001b[39m\\x12\u001b[39;49;00m\u001b[39m\\x38\u001b[39;49;00m\u001b[39m\\n\u001b[39;49;00m\u001b[39m\\x11\u001b[39;49;00m\u001b[39m\\x64\u001b[39;49;00m\u001b[39m\\x65\u001b[39;49;00m\u001b[39mnormalizer_spec\u001b[39;49m\u001b[39m\\x18\u001b[39;49;00m\u001b[39m\\x05\u001b[39;49;00m\u001b[39m\"\u001b[39;49m\n\u001b[1;32m     77\u001b[0m         \u001b[39mb\u001b[39;49m\u001b[39m\"\u001b[39;49m\u001b[39m \u001b[39;49m\u001b[39m\\x01\u001b[39;49;00m\u001b[39m(\u001b[39;49m\u001b[39m\\x0b\u001b[39;49;00m\u001b[39m\\x32\u001b[39;49;00m\u001b[39m\\x1d\u001b[39;49;00m\u001b[39m.sentencepiece.NormalizerSpec\u001b[39;49m\u001b[39m\\x1a\u001b[39;49;00m\u001b[39m\\xd2\u001b[39;49;00m\u001b[39m\\x01\u001b[39;49;00m\u001b[39m\\n\u001b[39;49;00m\u001b[39m\\r\u001b[39;49;00m\u001b[39mSentencePiece\u001b[39;49m\u001b[39m\\x12\u001b[39;49;00m\u001b[39m\\r\u001b[39;49;00m\u001b[39m\\n\u001b[39;49;00m\u001b[39m\\x05\u001b[39;49;00m\u001b[39mpiece\u001b[39;49m\u001b[39m\\x18\u001b[39;49;00m\u001b[39m\\x01\u001b[39;49;00m\u001b[39m\"\u001b[39;49m\n\u001b[1;32m     78\u001b[0m         \u001b[39mb\u001b[39;49m\u001b[39m\"\u001b[39;49m\u001b[39m \u001b[39;49m\u001b[39m\\x01\u001b[39;49;00m\u001b[39m(\u001b[39;49m\u001b[39m\\t\u001b[39;49;00m\u001b[39m\\x12\u001b[39;49;00m\u001b[39m\\r\u001b[39;49;00m\u001b[39m\\n\u001b[39;49;00m\u001b[39m\\x05\u001b[39;49;00m\u001b[39mscore\u001b[39;49m\u001b[39m\\x18\u001b[39;49;00m\u001b[39m\\x02\u001b[39;49;00m\u001b[39m \u001b[39;49m\u001b[39m\\x01\u001b[39;49;00m\u001b[39m(\u001b[39;49m\u001b[39m\\x02\u001b[39;49;00m\u001b[39m\\x12\u001b[39;49;00m\u001b[39m\\x42\u001b[39;49;00m\u001b[39m\\n\u001b[39;49;00m\u001b[39m\\x04\u001b[39;49;00m\u001b[39mtype\u001b[39;49m\u001b[39m\\x18\u001b[39;49;00m\u001b[39m\\x03\u001b[39;49;00m\u001b[39m\"\u001b[39;49m\n\u001b[1;32m     79\u001b[0m         \u001b[39mb\u001b[39;49m\u001b[39m'\u001b[39;49m\u001b[39m \u001b[39;49m\u001b[39m\\x01\u001b[39;49;00m\u001b[39m(\u001b[39;49m\u001b[39m\\x0e\u001b[39;49;00m\u001b[39m\\x32\u001b[39;49;00m\u001b[39m,.sentencepiece.ModelProto.SentencePiece.Type:\u001b[39;49m\u001b[39m\\x06\u001b[39;49;00m\u001b[39mNORMAL\u001b[39;49m\u001b[39m\"\u001b[39;49m\u001b[39mT\u001b[39;49m\u001b[39m\\n\u001b[39;49;00m\u001b[39m\\x04\u001b[39;49;00m\u001b[39mType\u001b[39;49m\u001b[39m\\x12\u001b[39;49;00m\u001b[39m\\n\u001b[39;49;00m\u001b[39m\\n\u001b[39;49;00m\u001b[39m\\x06\u001b[39;49;00m\u001b[39mNORMAL\u001b[39;49m\u001b[39m\\x10\u001b[39;49;00m\u001b[39m\\x01\u001b[39;49;00m\u001b[39m\\x12\u001b[39;49;00m\u001b[39m\\x0b\u001b[39;49;00m\u001b[39m\\n\u001b[39;49;00m\u001b[39m\\x07\u001b[39;49;00m\u001b[39mUNKNOWN\u001b[39;49m\u001b[39m\\x10\u001b[39;49;00m\u001b[39m\\x02\u001b[39;49;00m\u001b[39m\\x12\u001b[39;49;00m\u001b[39m\\x0b\u001b[39;49;00m\u001b[39m\\n\u001b[39;49;00m\u001b[39m\\x07\u001b[39;49;00m\u001b[39m\\x43\u001b[39;49;00m\u001b[39mONTROL\u001b[39;49m\u001b[39m\\x10\u001b[39;49;00m\u001b[39m\\x03\u001b[39;49;00m\u001b[39m\\x12\u001b[39;49;00m\u001b[39m\\x10\u001b[39;49;00m\u001b[39m\\n\u001b[39;49;00m\u001b[39m\\x0c\u001b[39;49;00m\u001b[39mUSER_DEFINED\u001b[39;49m\u001b[39m\\x10\u001b[39;49;00m\u001b[39m\\x04\u001b[39;49;00m\u001b[39m\\x12\u001b[39;49;00m\u001b[39m\\x08\u001b[39;49;00m\u001b[39m\\n\u001b[39;49;00m\u001b[39m\\x04\u001b[39;49;00m\u001b[39m\\x42\u001b[39;49;00m\u001b[39mYTE\u001b[39;49m\u001b[39m\\x10\u001b[39;49;00m\u001b[39m\\x06\u001b[39;49;00m\u001b[39m\\x12\u001b[39;49;00m\u001b[39m\\n\u001b[39;49;00m\u001b[39m\\n\u001b[39;49;00m\u001b[39m\\x06\u001b[39;49;00m\u001b[39mUNUSED\u001b[39;49m\u001b[39m\\x10\u001b[39;49;00m\u001b[39m\\x05\u001b[39;49;00m\u001b[39m*\u001b[39;49m\u001b[39m\\t\u001b[39;49;00m\u001b[39m\\x08\u001b[39;49;00m\u001b[39m\\xc8\u001b[39;49;00m\u001b[39m\\x01\u001b[39;49;00m\u001b[39m\\x10\u001b[39;49;00m\u001b[39m\\x80\u001b[39;49;00m\u001b[39m\\x80\u001b[39;49;00m\u001b[39m\\x80\u001b[39;49;00m\u001b[39m\\x80\u001b[39;49;00m\u001b[39m\\x02\u001b[39;49;00m\u001b[39m*\u001b[39;49m\u001b[39m\\t\u001b[39;49;00m\u001b[39m\\x08\u001b[39;49;00m\u001b[39m\\xc8\u001b[39;49;00m\u001b[39m\\x01\u001b[39;49;00m\u001b[39m\\x10\u001b[39;49;00m\u001b[39m\\x80\u001b[39;49;00m\u001b[39m\\x80\u001b[39;49;00m\u001b[39m\\x80\u001b[39;49;00m\u001b[39m\\x80\u001b[39;49;00m\u001b[39m\\x02\u001b[39;49;00m\u001b[39m\\x42\u001b[39;49;00m\u001b[39m\\x02\u001b[39;49;00m\u001b[39mH\u001b[39;49m\u001b[39m\\x03\u001b[39;49;00m\u001b[39m'\u001b[39;49m\n\u001b[1;32m     80\u001b[0m     ),\n\u001b[1;32m     81\u001b[0m )\n\u001b[1;32m     84\u001b[0m _TRAINERSPEC_MODELTYPE \u001b[39m=\u001b[39m _descriptor\u001b[39m.\u001b[39mEnumDescriptor(\n\u001b[1;32m     85\u001b[0m     name\u001b[39m=\u001b[39m\u001b[39m\"\u001b[39m\u001b[39mModelType\u001b[39m\u001b[39m\"\u001b[39m,\n\u001b[1;32m     86\u001b[0m     full_name\u001b[39m=\u001b[39m\u001b[39m\"\u001b[39m\u001b[39msentencepiece.TrainerSpec.ModelType\u001b[39m\u001b[39m\"\u001b[39m,\n\u001b[0;32m   (...)\u001b[0m\n\u001b[1;32m    127\u001b[0m     serialized_end\u001b[39m=\u001b[39m\u001b[39m1347\u001b[39m,\n\u001b[1;32m    128\u001b[0m )\n",
      "File \u001b[0;32m~/eva/test_evadb/lib/python3.10/site-packages/google/protobuf/descriptor.py:1066\u001b[0m, in \u001b[0;36mFileDescriptor.__new__\u001b[0;34m(cls, name, package, options, serialized_options, serialized_pb, dependencies, public_dependencies, syntax, pool, create_key)\u001b[0m\n\u001b[1;32m   1065\u001b[0m \u001b[39mif\u001b[39;00m serialized_pb:\n\u001b[0;32m-> 1066\u001b[0m   \u001b[39mreturn\u001b[39;00m _message\u001b[39m.\u001b[39;49mdefault_pool\u001b[39m.\u001b[39;49mAddSerializedFile(serialized_pb)\n\u001b[1;32m   1067\u001b[0m \u001b[39melse\u001b[39;00m:\n",
      "\u001b[0;31mTypeError\u001b[0m: Couldn't build proto file into descriptor pool: duplicate file name sentencepiece_model.proto",
      "\nDuring handling of the above exception, another exception occurred:\n",
      "\u001b[0;31mRuntimeError\u001b[0m                              Traceback (most recent call last)",
      "File \u001b[0;32m~/eva/test_evadb/lib/python3.10/site-packages/evadb/executor/plan_executor.py:164\u001b[0m, in \u001b[0;36mPlanExecutor.execute_plan\u001b[0;34m(self, ignore_exceptions)\u001b[0m\n\u001b[1;32m    163\u001b[0m     \u001b[39mif\u001b[39;00m output \u001b[39mis\u001b[39;00m \u001b[39mnot\u001b[39;00m \u001b[39mNone\u001b[39;00m:\n\u001b[0;32m--> 164\u001b[0m         \u001b[39myield from\u001b[39;00m output\n\u001b[1;32m    165\u001b[0m \u001b[39mexcept\u001b[39;00m \u001b[39mException\u001b[39;00m \u001b[39mas\u001b[39;00m e:\n",
      "File \u001b[0;32m~/eva/test_evadb/lib/python3.10/site-packages/evadb/executor/create_udf_executor.py:118\u001b[0m, in \u001b[0;36mCreateUDFExecutor.exec\u001b[0;34m(self, *args, **kwargs)\u001b[0m\n\u001b[1;32m    117\u001b[0m \u001b[39melse\u001b[39;00m:\n\u001b[0;32m--> 118\u001b[0m     name, impl_path, udf_type, io_list, metadata \u001b[39m=\u001b[39m \u001b[39mself\u001b[39;49m\u001b[39m.\u001b[39;49mhandle_generic_udf()\n\u001b[1;32m    120\u001b[0m \u001b[39mself\u001b[39m\u001b[39m.\u001b[39mcatalog()\u001b[39m.\u001b[39minsert_udf_catalog_entry(\n\u001b[1;32m    121\u001b[0m     name, impl_path, udf_type, io_list, metadata\n\u001b[1;32m    122\u001b[0m )\n",
      "File \u001b[0;32m~/eva/test_evadb/lib/python3.10/site-packages/evadb/executor/create_udf_executor.py:85\u001b[0m, in \u001b[0;36mCreateUDFExecutor.handle_generic_udf\u001b[0;34m(self)\u001b[0m\n\u001b[1;32m     84\u001b[0m impl_path \u001b[39m=\u001b[39m \u001b[39mself\u001b[39m\u001b[39m.\u001b[39mnode\u001b[39m.\u001b[39mimpl_path\u001b[39m.\u001b[39mabsolute()\u001b[39m.\u001b[39mas_posix()\n\u001b[0;32m---> 85\u001b[0m udf \u001b[39m=\u001b[39m \u001b[39mself\u001b[39;49m\u001b[39m.\u001b[39;49m_try_initializing_udf(impl_path)\n\u001b[1;32m     86\u001b[0m io_list \u001b[39m=\u001b[39m \u001b[39mself\u001b[39m\u001b[39m.\u001b[39m_resolve_udf_io(udf)\n",
      "File \u001b[0;32m~/eva/test_evadb/lib/python3.10/site-packages/evadb/executor/create_udf_executor.py:152\u001b[0m, in \u001b[0;36mCreateUDFExecutor._try_initializing_udf\u001b[0;34m(self, impl_path, udf_args)\u001b[0m\n\u001b[1;32m    151\u001b[0m     \u001b[39m# logger.error(err_msg)\u001b[39;00m\n\u001b[0;32m--> 152\u001b[0m     \u001b[39mraise\u001b[39;00m \u001b[39mRuntimeError\u001b[39;00m(err_msg)\n\u001b[1;32m    154\u001b[0m \u001b[39mreturn\u001b[39;00m udf\n",
      "\u001b[0;31mRuntimeError\u001b[0m: Error creating UDF: Couldn't build proto file into descriptor pool: duplicate file name sentencepiece_model.proto",
      "\nDuring handling of the above exception, another exception occurred:\n",
      "\u001b[0;31mExecutorError\u001b[0m                             Traceback (most recent call last)",
      "Cell \u001b[0;32mIn[4], line 2\u001b[0m\n\u001b[1;32m      1\u001b[0m cursor\u001b[39m.\u001b[39mquery(\u001b[39m\"\u001b[39m\u001b[39mDROP UDF IF EXISTS OCRExtractor;\u001b[39m\u001b[39m\"\u001b[39m)\u001b[39m.\u001b[39mdf()\n\u001b[0;32m----> 2\u001b[0m cursor\u001b[39m.\u001b[39;49mcreate_udf(\u001b[39m\"\u001b[39;49m\u001b[39mOCRExtractor\u001b[39;49m\u001b[39m\"\u001b[39;49m, \u001b[39mTrue\u001b[39;49;00m, \u001b[39m'\u001b[39;49m\u001b[39m../evadb/udfs/ocr_extractor.py\u001b[39;49m\u001b[39m'\u001b[39;49m)\u001b[39m.\u001b[39;49mdf()\n\u001b[1;32m      4\u001b[0m cursor\u001b[39m.\u001b[39mquery(\u001b[39m\"\"\"\u001b[39m\u001b[39mDROP UDF IF EXISTS ToxicityClassifier;\u001b[39m\u001b[39m\"\"\"\u001b[39m)\u001b[39m.\u001b[39mdf()\n\u001b[1;32m      5\u001b[0m cursor\u001b[39m.\u001b[39mcreate_udf(\u001b[39m\"\u001b[39m\u001b[39mToxicityClassifier\u001b[39m\u001b[39m\"\u001b[39m, \u001b[39mTrue\u001b[39;00m, \u001b[39m'\u001b[39m\u001b[39m../evadb/udfs/toxicity_classifier.py\u001b[39m\u001b[39m'\u001b[39m)\u001b[39m.\u001b[39mdf()\n",
      "File \u001b[0;32m~/eva/test_evadb/lib/python3.10/site-packages/evadb/interfaces/relational/relation.py:110\u001b[0m, in \u001b[0;36mEvaDBQuery.df\u001b[0;34m(self)\u001b[0m\n\u001b[1;32m    104\u001b[0m \u001b[39mdef\u001b[39;00m \u001b[39mdf\u001b[39m(\u001b[39mself\u001b[39m) \u001b[39m-\u001b[39m\u001b[39m>\u001b[39m pandas\u001b[39m.\u001b[39mDataFrame:\n\u001b[1;32m    105\u001b[0m \u001b[39m    \u001b[39m\u001b[39m\"\"\"Execute and fetch all rows as a pandas DataFrame\u001b[39;00m\n\u001b[1;32m    106\u001b[0m \n\u001b[1;32m    107\u001b[0m \u001b[39m    Returns:\u001b[39;00m\n\u001b[1;32m    108\u001b[0m \u001b[39m        pandas.DataFrame:\u001b[39;00m\n\u001b[1;32m    109\u001b[0m \u001b[39m    \"\"\"\u001b[39;00m\n\u001b[0;32m--> 110\u001b[0m     batch \u001b[39m=\u001b[39m \u001b[39mself\u001b[39;49m\u001b[39m.\u001b[39;49mexecute()\n\u001b[1;32m    111\u001b[0m     \u001b[39massert\u001b[39;00m batch \u001b[39mis\u001b[39;00m \u001b[39mnot\u001b[39;00m \u001b[39mNone\u001b[39;00m, \u001b[39m\"\u001b[39m\u001b[39mrelation execute failed\u001b[39m\u001b[39m\"\u001b[39m\n\u001b[1;32m    112\u001b[0m     \u001b[39mreturn\u001b[39;00m batch\u001b[39m.\u001b[39mframes\n",
      "File \u001b[0;32m~/eva/test_evadb/lib/python3.10/site-packages/evadb/interfaces/relational/relation.py:120\u001b[0m, in \u001b[0;36mEvaDBQuery.execute\u001b[0;34m(self)\u001b[0m\n\u001b[1;32m    114\u001b[0m \u001b[39mdef\u001b[39;00m \u001b[39mexecute\u001b[39m(\u001b[39mself\u001b[39m) \u001b[39m-\u001b[39m\u001b[39m>\u001b[39m Batch:\n\u001b[1;32m    115\u001b[0m \u001b[39m    \u001b[39m\u001b[39m\"\"\"Transform the relation into a result set\u001b[39;00m\n\u001b[1;32m    116\u001b[0m \n\u001b[1;32m    117\u001b[0m \u001b[39m    Returns:\u001b[39;00m\n\u001b[1;32m    118\u001b[0m \u001b[39m        Batch: result as evadb Batch\u001b[39;00m\n\u001b[1;32m    119\u001b[0m \u001b[39m    \"\"\"\u001b[39;00m\n\u001b[0;32m--> 120\u001b[0m     result \u001b[39m=\u001b[39m execute_statement(\u001b[39mself\u001b[39;49m\u001b[39m.\u001b[39;49m_evadb, \u001b[39mself\u001b[39;49m\u001b[39m.\u001b[39;49m_query_node\u001b[39m.\u001b[39;49mcopy())\n\u001b[1;32m    121\u001b[0m     \u001b[39massert\u001b[39;00m result\u001b[39m.\u001b[39mframes \u001b[39mis\u001b[39;00m \u001b[39mnot\u001b[39;00m \u001b[39mNone\u001b[39;00m\n\u001b[1;32m    122\u001b[0m     \u001b[39mreturn\u001b[39;00m result\n",
      "File \u001b[0;32m~/eva/test_evadb/lib/python3.10/site-packages/evadb/interfaces/relational/utils.py:60\u001b[0m, in \u001b[0;36mexecute_statement\u001b[0;34m(evadb, statement)\u001b[0m\n\u001b[1;32m     58\u001b[0m output \u001b[39m=\u001b[39m PlanExecutor(evadb, p_plan)\u001b[39m.\u001b[39mexecute_plan()\n\u001b[1;32m     59\u001b[0m \u001b[39mif\u001b[39;00m output:\n\u001b[0;32m---> 60\u001b[0m     batch_list \u001b[39m=\u001b[39m \u001b[39mlist\u001b[39;49m(output)\n\u001b[1;32m     61\u001b[0m     \u001b[39mreturn\u001b[39;00m Batch\u001b[39m.\u001b[39mconcat(batch_list, copy\u001b[39m=\u001b[39m\u001b[39mFalse\u001b[39;00m)\n",
      "File \u001b[0;32m~/eva/test_evadb/lib/python3.10/site-packages/evadb/executor/plan_executor.py:168\u001b[0m, in \u001b[0;36mPlanExecutor.execute_plan\u001b[0;34m(self, ignore_exceptions)\u001b[0m\n\u001b[1;32m    166\u001b[0m \u001b[39mif\u001b[39;00m ignore_exceptions \u001b[39mis\u001b[39;00m \u001b[39mFalse\u001b[39;00m:\n\u001b[1;32m    167\u001b[0m     logger\u001b[39m.\u001b[39mexception(\u001b[39mstr\u001b[39m(e))\n\u001b[0;32m--> 168\u001b[0m     \u001b[39mraise\u001b[39;00m ExecutorError(e)\n",
      "\u001b[0;31mExecutorError\u001b[0m: Error creating UDF: Couldn't build proto file into descriptor pool: duplicate file name sentencepiece_model.proto"
     ]
    }
   ],
   "source": [
    "cursor.query(\"DROP UDF IF EXISTS OCRExtractor;\").df()\n",
    "cursor.create_udf(\"OCRExtractor\", True, '../evadb/udfs/ocr_extractor.py').df()\n",
    "\n",
    "cursor.query(\"\"\"DROP UDF IF EXISTS ToxicityClassifier;\"\"\").df()\n",
    "cursor.create_udf(\"ToxicityClassifier\", True, '../evadb/udfs/toxicity_classifier.py').df()"
   ]
  },
  {
   "attachments": {},
   "cell_type": "markdown",
   "id": "296b93a8",
   "metadata": {
    "pycharm": {
     "name": "#%% md\n"
    }
   },
   "source": [
    "### Run Toxicity Classifier on OCR Extracted from Images"
   ]
  },
  {
   "cell_type": "code",
   "execution_count": null,
   "id": "b989e7e2",
   "metadata": {
    "execution": {
     "iopub.execute_input": "2023-05-09T03:43:10.943121Z",
     "iopub.status.busy": "2023-05-09T03:43:10.942738Z",
     "iopub.status.idle": "2023-05-09T03:43:23.718624Z",
     "shell.execute_reply": "2023-05-09T03:43:23.717873Z"
    },
    "pycharm": {
     "name": "#%%\n"
    }
   },
   "outputs": [],
   "source": [
    "response = (\n",
    "    cursor.query(\n",
    "        \"\"\"SELECT memeimages._row_id, T.label, ToxicityClassifier(label)\n",
    "                  FROM MemeImages JOIN LATERAL\n",
    "                  UNNEST(OCRExtractor(data)) AS T(label)\n",
    "                  ;\"\"\"\n",
    "    )\n",
    "    .df()\n",
    ")\n",
    "response"
   ]
  },
  {
   "attachments": {},
   "cell_type": "markdown",
   "id": "058dee7a",
   "metadata": {
    "pycharm": {
     "name": "#%% md\n"
    }
   },
   "source": [
    "### Visualize Model Output on Images"
   ]
  },
  {
   "cell_type": "code",
   "execution_count": null,
   "id": "6a6e2234",
   "metadata": {
    "execution": {
     "iopub.execute_input": "2023-05-09T03:43:23.723238Z",
     "iopub.status.busy": "2023-05-09T03:43:23.722983Z",
     "iopub.status.idle": "2023-05-09T03:43:24.125483Z",
     "shell.execute_reply": "2023-05-09T03:43:24.124294Z"
    },
    "pycharm": {
     "name": "#%%\n"
    }
   },
   "outputs": [],
   "source": [
    "from pprint import pprint\n",
    "from matplotlib import pyplot as plt\n",
    "import cv2\n",
    "import numpy as np\n",
    "\n",
    "def annotate_image(detections, input_image_path, image_id):\n",
    "\n",
    "    color1=(207, 248, 64)\n",
    "    color2=(255, 49, 49)\n",
    "    thickness=4\n",
    "\n",
    "    df = detections\n",
    "    df = df.iloc[image_id]\n",
    "\n",
    "    image = cv2.imread(input_image_path)\n",
    "\n",
    "    if df.size:\n",
    "        ocr = df['T.label']\n",
    "        label = df['toxicityclassifier.label']\n",
    "\n",
    "        plt.imshow(image)\n",
    "        plt.show()\n",
    "\n",
    "        cv2.putText(image, label, (25, 200), cv2.FONT_HERSHEY_SIMPLEX, 3, color2, thickness, cv2.LINE_AA) \n",
    "\n",
    "        cv2.putText(image, ocr, (25, 250), cv2.FONT_HERSHEY_SIMPLEX, 0.8, color1, thickness, cv2.LINE_AA) \n",
    "\n",
    "        plt.imshow(image)\n",
    "        plt.show()        "
   ]
  },
  {
   "cell_type": "code",
   "execution_count": null,
   "id": "e2668e08",
   "metadata": {
    "execution": {
     "iopub.execute_input": "2023-05-09T03:43:24.130995Z",
     "iopub.status.busy": "2023-05-09T03:43:24.130225Z",
     "iopub.status.idle": "2023-05-09T03:43:24.938101Z",
     "shell.execute_reply": "2023-05-09T03:43:24.937268Z"
    },
    "pycharm": {
     "name": "#%%\n"
    }
   },
   "outputs": [],
   "source": [
    "from ipywidgets import Image\n",
    "annotate_image(response, 'meme1.jpg', image_id=1)\n",
    "annotate_image(response, 'meme2.jpg', image_id=0)"
   ]
  }
 ],
 "metadata": {
  "kernelspec": {
   "display_name": "Python 3",
   "language": "python",
   "name": "python3"
  },
  "language_info": {
   "codemirror_mode": {
    "name": "ipython",
    "version": 3
   },
   "file_extension": ".py",
   "mimetype": "text/x-python",
   "name": "python",
   "nbconvert_exporter": "python",
   "pygments_lexer": "ipython3",
   "version": "3.10.11"
  },
  "vscode": {
   "interpreter": {
    "hash": "0adcc2737ebf6a4a119f135174df96668767fca1ef1112612db5ecadf2b6d608"
   }
  }
 },
 "nbformat": 4,
 "nbformat_minor": 5
}
